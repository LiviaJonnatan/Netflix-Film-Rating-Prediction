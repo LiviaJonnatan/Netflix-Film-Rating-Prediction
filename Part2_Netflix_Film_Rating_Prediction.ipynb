{
  "nbformat": 4,
  "nbformat_minor": 0,
  "metadata": {
    "colab": {
      "name": "Part2-Netflix-Film-Rating-Prediction.ipynb",
      "provenance": [],
      "collapsed_sections": [],
      "include_colab_link": true
    },
    "kernelspec": {
      "name": "python3",
      "display_name": "Python 3"
    },
    "language_info": {
      "name": "python"
    }
  },
  "cells": [
    {
      "cell_type": "markdown",
      "metadata": {
        "id": "view-in-github",
        "colab_type": "text"
      },
      "source": [
        "<a href=\"https://colab.research.google.com/github/LiviaJonnatan/Netflix-Film-Rating-Prediction/blob/main/Part2_Netflix_Film_Rating_Prediction.ipynb\" target=\"_parent\"><img src=\"https://colab.research.google.com/assets/colab-badge.svg\" alt=\"Open In Colab\"/></a>"
      ]
    },
    {
      "cell_type": "markdown",
      "source": [
        "In this Notebook, we will predict film rating by using data from \"Netfix Movies\". Let's get started!"
      ],
      "metadata": {
        "id": "Qu5iqv0WayF0"
      }
    },
    {
      "cell_type": "markdown",
      "source": [
        "## 1. Load Data\n",
      ],
      "metadata": {
        "id": "oRlgH1OEbjYh"
      }
    },
    {
      "cell_type": "code",
      "execution_count": 1,
      "metadata": {
        "id": "N1JC2S5OU_vn",
        "colab": {
          "base_uri": "https://localhost:8080/"
        },
        "outputId": "75978f92-3689-4f99-9618-79ee14d86d6a"
      },
      "outputs": [
        {
          "output_type": "stream",
          "name": "stdout",
          "text": [
            "Mounted at /content/drive\n"
          ]
        }
      ],
      "source": [
        "from google.colab import drive\n",
        "drive.mount('/content/drive', force_remount=True)"
      ]
    },
    {
      "cell_type": "code",
      "source": [
        "import pandas as pd\n",
        "\n",
        "# Read data\n",
        "df = pd.read_csv('/content/drive/My Drive/netflix_cleaned.csv')\n",
        "df.head()"
      ],
      "metadata": {
        "id": "C6JXioHrWb3K",
        "colab": {
          "base_uri": "https://localhost:8080/",
          "height": 333
        },
        "outputId": "04077cab-ba09-4cc2-e4b7-db82d0dfea8f"
      },
      "execution_count": 2,
      "outputs": [
        {
          "output_type": "execute_result",
          "data": {
            "text/plain": [
              "  show_id                        title         director        country  \\\n",
              "0     s46       My Heroes Were Cowboys      Tyler Greco  United States   \n",
              "1     s72  A StoryBots Space Adventure  David A. Vargas  United States   \n",
              "2    s696               Besieged Bread   Soudade Kaadan  United States   \n",
              "3    s695                        Aziza   Soudade Kaadan        Lebanon   \n",
              "4    s992                  One Like It     Marwan Nabil          Egypt   \n",
              "\n",
              "           date_added  release_year rating  duration  \\\n",
              "0  September 16, 2021          2021     PG      46.5   \n",
              "1  September 14, 2021          2021   TV-Y      46.5   \n",
              "2       June 17, 2021          2015  TV-14      46.5   \n",
              "3       June 17, 2021          2019  TV-PG      46.5   \n",
              "4      April 23, 2021          2020   TV-G      46.5   \n",
              "\n",
              "                      genre  \\\n",
              "0             Documentaries   \n",
              "1  Children & Family Movies   \n",
              "2                    Dramas   \n",
              "3                  Comedies   \n",
              "4                    Dramas   \n",
              "\n",
              "                                         description  film_rating  \n",
              "0  Robin Wiltshire's painful childhood was rescue...          7.0  \n",
              "1  Join the StoryBots and the space travelers of ...          7.7  \n",
              "2  In battle-ridden Syria, a woman trying to smug...          7.5  \n",
              "3  This short film follows a newly displaced Syri...          7.3  \n",
              "4  This short film follows a day in the life of a...          7.9  "
            ],
            "text/html": [
              "\n",
              "  <div id=\"df-745fde62-b612-4eca-b92f-bd924835c9a2\">\n",
              "    <div class=\"colab-df-container\">\n",
              "      <div>\n",
              "<style scoped>\n",
              "    .dataframe tbody tr th:only-of-type {\n",
              "        vertical-align: middle;\n",
              "    }\n",
              "\n",
              "    .dataframe tbody tr th {\n",
              "        vertical-align: top;\n",
              "    }\n",
              "\n",
              "    .dataframe thead th {\n",
              "        text-align: right;\n",
              "    }\n",
              "</style>\n",
              "<table border=\"1\" class=\"dataframe\">\n",
              "  <thead>\n",
              "    <tr style=\"text-align: right;\">\n",
              "      <th></th>\n",
              "      <th>show_id</th>\n",
              "      <th>title</th>\n",
              "      <th>director</th>\n",
              "      <th>country</th>\n",
              "      <th>date_added</th>\n",
              "      <th>release_year</th>\n",
              "      <th>rating</th>\n",
              "      <th>duration</th>\n",
              "      <th>genre</th>\n",
              "      <th>description</th>\n",
              "      <th>film_rating</th>\n",
              "    </tr>\n",
              "  </thead>\n",
              "  <tbody>\n",
              "    <tr>\n",
              "      <th>0</th>\n",
              "      <td>s46</td>\n",
              "      <td>My Heroes Were Cowboys</td>\n",
              "      <td>Tyler Greco</td>\n",
              "      <td>United States</td>\n",
              "      <td>September 16, 2021</td>\n",
              "      <td>2021</td>\n",
              "      <td>PG</td>\n",
              "      <td>46.5</td>\n",
              "      <td>Documentaries</td>\n",
              "      <td>Robin Wiltshire's painful childhood was rescue...</td>\n",
              "      <td>7.0</td>\n",
              "    </tr>\n",
              "    <tr>\n",
              "      <th>1</th>\n",
              "      <td>s72</td>\n",
              "      <td>A StoryBots Space Adventure</td>\n",
              "      <td>David A. Vargas</td>\n",
              "      <td>United States</td>\n",
              "      <td>September 14, 2021</td>\n",
              "      <td>2021</td>\n",
              "      <td>TV-Y</td>\n",
              "      <td>46.5</td>\n",
              "      <td>Children &amp; Family Movies</td>\n",
              "      <td>Join the StoryBots and the space travelers of ...</td>\n",
              "      <td>7.7</td>\n",
              "    </tr>\n",
              "    <tr>\n",
              "      <th>2</th>\n",
              "      <td>s696</td>\n",
              "      <td>Besieged Bread</td>\n",
              "      <td>Soudade Kaadan</td>\n",
              "      <td>United States</td>\n",
              "      <td>June 17, 2021</td>\n",
              "      <td>2015</td>\n",
              "      <td>TV-14</td>\n",
              "      <td>46.5</td>\n",
              "      <td>Dramas</td>\n",
              "      <td>In battle-ridden Syria, a woman trying to smug...</td>\n",
              "      <td>7.5</td>\n",
              "    </tr>\n",
              "    <tr>\n",
              "      <th>3</th>\n",
              "      <td>s695</td>\n",
              "      <td>Aziza</td>\n",
              "      <td>Soudade Kaadan</td>\n",
              "      <td>Lebanon</td>\n",
              "      <td>June 17, 2021</td>\n",
              "      <td>2019</td>\n",
              "      <td>TV-PG</td>\n",
              "      <td>46.5</td>\n",
              "      <td>Comedies</td>\n",
              "      <td>This short film follows a newly displaced Syri...</td>\n",
              "      <td>7.3</td>\n",
              "    </tr>\n",
              "    <tr>\n",
              "      <th>4</th>\n",
              "      <td>s992</td>\n",
              "      <td>One Like It</td>\n",
              "      <td>Marwan Nabil</td>\n",
              "      <td>Egypt</td>\n",
              "      <td>April 23, 2021</td>\n",
              "      <td>2020</td>\n",
              "      <td>TV-G</td>\n",
              "      <td>46.5</td>\n",
              "      <td>Dramas</td>\n",
              "      <td>This short film follows a day in the life of a...</td>\n",
              "      <td>7.9</td>\n",
              "    </tr>\n",
              "  </tbody>\n",
              "</table>\n",
              "</div>\n",
              "      <button class=\"colab-df-convert\" onclick=\"convertToInteractive('df-745fde62-b612-4eca-b92f-bd924835c9a2')\"\n",
              "              title=\"Convert this dataframe to an interactive table.\"\n",
              "              style=\"display:none;\">\n",
              "        \n",
              "  <svg xmlns=\"http://www.w3.org/2000/svg\" height=\"24px\"viewBox=\"0 0 24 24\"\n",
              "       width=\"24px\">\n",
              "    <path d=\"M0 0h24v24H0V0z\" fill=\"none\"/>\n",
              "    <path d=\"M18.56 5.44l.94 2.06.94-2.06 2.06-.94-2.06-.94-.94-2.06-.94 2.06-2.06.94zm-11 1L8.5 8.5l.94-2.06 2.06-.94-2.06-.94L8.5 2.5l-.94 2.06-2.06.94zm10 10l.94 2.06.94-2.06 2.06-.94-2.06-.94-.94-2.06-.94 2.06-2.06.94z\"/><path d=\"M17.41 7.96l-1.37-1.37c-.4-.4-.92-.59-1.43-.59-.52 0-1.04.2-1.43.59L10.3 9.45l-7.72 7.72c-.78.78-.78 2.05 0 2.83L4 21.41c.39.39.9.59 1.41.59.51 0 1.02-.2 1.41-.59l7.78-7.78 2.81-2.81c.8-.78.8-2.07 0-2.86zM5.41 20L4 18.59l7.72-7.72 1.47 1.35L5.41 20z\"/>\n",
              "  </svg>\n",
              "      </button>\n",
              "      \n",
              "  <style>\n",
              "    .colab-df-container {\n",
              "      display:flex;\n",
              "      flex-wrap:wrap;\n",
              "      gap: 12px;\n",
              "    }\n",
              "\n",
              "    .colab-df-convert {\n",
              "      background-color: #E8F0FE;\n",
              "      border: none;\n",
              "      border-radius: 50%;\n",
              "      cursor: pointer;\n",
              "      display: none;\n",
              "      fill: #1967D2;\n",
              "      height: 32px;\n",
              "      padding: 0 0 0 0;\n",
              "      width: 32px;\n",
              "    }\n",
              "\n",
              "    .colab-df-convert:hover {\n",
              "      background-color: #E2EBFA;\n",
              "      box-shadow: 0px 1px 2px rgba(60, 64, 67, 0.3), 0px 1px 3px 1px rgba(60, 64, 67, 0.15);\n",
              "      fill: #174EA6;\n",
              "    }\n",
              "\n",
              "    [theme=dark] .colab-df-convert {\n",
              "      background-color: #3B4455;\n",
              "      fill: #D2E3FC;\n",
              "    }\n",
              "\n",
              "    [theme=dark] .colab-df-convert:hover {\n",
              "      background-color: #434B5C;\n",
              "      box-shadow: 0px 1px 3px 1px rgba(0, 0, 0, 0.15);\n",
              "      filter: drop-shadow(0px 1px 2px rgba(0, 0, 0, 0.3));\n",
              "      fill: #FFFFFF;\n",
              "    }\n",
              "  </style>\n",
              "\n",
              "      <script>\n",
              "        const buttonEl =\n",
              "          document.querySelector('#df-745fde62-b612-4eca-b92f-bd924835c9a2 button.colab-df-convert');\n",
              "        buttonEl.style.display =\n",
              "          google.colab.kernel.accessAllowed ? 'block' : 'none';\n",
              "\n",
              "        async function convertToInteractive(key) {\n",
              "          const element = document.querySelector('#df-745fde62-b612-4eca-b92f-bd924835c9a2');\n",
              "          const dataTable =\n",
              "            await google.colab.kernel.invokeFunction('convertToInteractive',\n",
              "                                                     [key], {});\n",
              "          if (!dataTable) return;\n",
              "\n",
              "          const docLinkHtml = 'Like what you see? Visit the ' +\n",
              "            '<a target=\"_blank\" href=https://colab.research.google.com/notebooks/data_table.ipynb>data table notebook</a>'\n",
              "            + ' to learn more about interactive tables.';\n",
              "          element.innerHTML = '';\n",
              "          dataTable['output_type'] = 'display_data';\n",
              "          await google.colab.output.renderOutput(dataTable, element);\n",
              "          const docLink = document.createElement('div');\n",
              "          docLink.innerHTML = docLinkHtml;\n",
              "          element.appendChild(docLink);\n",
              "        }\n",
              "      </script>\n",
              "    </div>\n",
              "  </div>\n",
              "  "
            ]
          },
          "metadata": {},
          "execution_count": 2
        }
      ]
    },
    {
      "cell_type": "code",
      "source": [
        "# Check data dimension \n",
        "print(df.shape)"
      ],
      "metadata": {
        "id": "kkYTcnd_WhIG",
        "colab": {
          "base_uri": "https://localhost:8080/"
        },
        "outputId": "249565b0-54dc-46cb-86ef-d5a2ef6a2f6a"
      },
      "execution_count": 3,
      "outputs": [
        {
          "output_type": "stream",
          "name": "stdout",
          "text": [
            "(6128, 11)\n"
          ]
        }
      ]
    },
    {
      "cell_type": "code",
      "source": [
        "# Get info from each column\n",
        "print(df.info())"
      ],
      "metadata": {
        "id": "AbA7QtOYWkHJ",
        "colab": {
          "base_uri": "https://localhost:8080/"
        },
        "outputId": "876e76f5-dfbe-4eb0-bf18-91715206b328"
      },
      "execution_count": 4,
      "outputs": [
        {
          "output_type": "stream",
          "name": "stdout",
          "text": [
            "<class 'pandas.core.frame.DataFrame'>\n",
            "RangeIndex: 6128 entries, 0 to 6127\n",
            "Data columns (total 11 columns):\n",
            " #   Column        Non-Null Count  Dtype  \n",
            "---  ------        --------------  -----  \n",
            " 0   show_id       6128 non-null   object \n",
            " 1   title         6128 non-null   object \n",
            " 2   director      6128 non-null   object \n",
            " 3   country       6128 non-null   object \n",
            " 4   date_added    6128 non-null   object \n",
            " 5   release_year  6128 non-null   int64  \n",
            " 6   rating        6128 non-null   object \n",
            " 7   duration      6128 non-null   float64\n",
            " 8   genre         6128 non-null   object \n",
            " 9   description   6128 non-null   object \n",
            " 10  film_rating   6128 non-null   float64\n",
            "dtypes: float64(2), int64(1), object(8)\n",
            "memory usage: 526.8+ KB\n",
            "None\n"
          ]
        }
      ]
    },
    {
      "cell_type": "markdown",
      "source": [
        "# Feature Engineering"
      ],
      "metadata": {
        "id": "pnaKtA4Ua2AK"
      }
    },
    {
      "cell_type": "code",
      "source": [
        "# Check unique in each column\n",
        "df.nunique()"
      ],
      "metadata": {
        "colab": {
          "base_uri": "https://localhost:8080/"
        },
        "id": "7vPPrMWE3fpO",
        "outputId": "726e4e13-6bba-49a3-b05a-072f0be220d2"
      },
      "execution_count": 5,
      "outputs": [
        {
          "output_type": "execute_result",
          "data": {
            "text/plain": [
              "show_id         6128\n",
              "title           6126\n",
              "director        4242\n",
              "country           78\n",
              "date_added      1532\n",
              "release_year      19\n",
              "rating            14\n",
              "duration         110\n",
              "genre             19\n",
              "description     6102\n",
              "film_rating       42\n",
              "dtype: int64"
            ]
          },
          "metadata": {},
          "execution_count": 5
        }
      ]
    },
    {
      "cell_type": "code",
      "source": [
        "# Exclude column with too many unique values\n",
        "df = df.drop(columns=['show_id', 'title', 'director', 'description', 'date_added'])"
      ],
      "metadata": {
        "id": "SM2jP4Bi4A0i"
      },
      "execution_count": 6,
      "outputs": []
    },
    {
      "cell_type": "code",
      "source": [
        "df.head()"
      ],
      "metadata": {
        "colab": {
          "base_uri": "https://localhost:8080/",
          "height": 204
        },
        "id": "Km6XUz3n4Gp0",
        "outputId": "00b94443-ccc3-4640-846c-6c52c4c3f2e6"
      },
      "execution_count": 7,
      "outputs": [
        {
          "output_type": "execute_result",
          "data": {
            "text/plain": [
              "         country  release_year rating  duration                     genre  \\\n",
              "0  United States          2021     PG      46.5             Documentaries   \n",
              "1  United States          2021   TV-Y      46.5  Children & Family Movies   \n",
              "2  United States          2015  TV-14      46.5                    Dramas   \n",
              "3        Lebanon          2019  TV-PG      46.5                  Comedies   \n",
              "4          Egypt          2020   TV-G      46.5                    Dramas   \n",
              "\n",
              "   film_rating  \n",
              "0          7.0  \n",
              "1          7.7  \n",
              "2          7.5  \n",
              "3          7.3  \n",
              "4          7.9  "
            ],
            "text/html": [
              "\n",
              "  <div id=\"df-312c6a54-b681-4453-9e8c-b1ed601269c9\">\n",
              "    <div class=\"colab-df-container\">\n",
              "      <div>\n",
              "<style scoped>\n",
              "    .dataframe tbody tr th:only-of-type {\n",
              "        vertical-align: middle;\n",
              "    }\n",
              "\n",
              "    .dataframe tbody tr th {\n",
              "        vertical-align: top;\n",
              "    }\n",
              "\n",
              "    .dataframe thead th {\n",
              "        text-align: right;\n",
              "    }\n",
              "</style>\n",
              "<table border=\"1\" class=\"dataframe\">\n",
              "  <thead>\n",
              "    <tr style=\"text-align: right;\">\n",
              "      <th></th>\n",
              "      <th>country</th>\n",
              "      <th>release_year</th>\n",
              "      <th>rating</th>\n",
              "      <th>duration</th>\n",
              "      <th>genre</th>\n",
              "      <th>film_rating</th>\n",
              "    </tr>\n",
              "  </thead>\n",
              "  <tbody>\n",
              "    <tr>\n",
              "      <th>0</th>\n",
              "      <td>United States</td>\n",
              "      <td>2021</td>\n",
              "      <td>PG</td>\n",
              "      <td>46.5</td>\n",
              "      <td>Documentaries</td>\n",
              "      <td>7.0</td>\n",
              "    </tr>\n",
              "    <tr>\n",
              "      <th>1</th>\n",
              "      <td>United States</td>\n",
              "      <td>2021</td>\n",
              "      <td>TV-Y</td>\n",
              "      <td>46.5</td>\n",
              "      <td>Children &amp; Family Movies</td>\n",
              "      <td>7.7</td>\n",
              "    </tr>\n",
              "    <tr>\n",
              "      <th>2</th>\n",
              "      <td>United States</td>\n",
              "      <td>2015</td>\n",
              "      <td>TV-14</td>\n",
              "      <td>46.5</td>\n",
              "      <td>Dramas</td>\n",
              "      <td>7.5</td>\n",
              "    </tr>\n",
              "    <tr>\n",
              "      <th>3</th>\n",
              "      <td>Lebanon</td>\n",
              "      <td>2019</td>\n",
              "      <td>TV-PG</td>\n",
              "      <td>46.5</td>\n",
              "      <td>Comedies</td>\n",
              "      <td>7.3</td>\n",
              "    </tr>\n",
              "    <tr>\n",
              "      <th>4</th>\n",
              "      <td>Egypt</td>\n",
              "      <td>2020</td>\n",
              "      <td>TV-G</td>\n",
              "      <td>46.5</td>\n",
              "      <td>Dramas</td>\n",
              "      <td>7.9</td>\n",
              "    </tr>\n",
              "  </tbody>\n",
              "</table>\n",
              "</div>\n",
              "      <button class=\"colab-df-convert\" onclick=\"convertToInteractive('df-312c6a54-b681-4453-9e8c-b1ed601269c9')\"\n",
              "              title=\"Convert this dataframe to an interactive table.\"\n",
              "              style=\"display:none;\">\n",
              "        \n",
              "  <svg xmlns=\"http://www.w3.org/2000/svg\" height=\"24px\"viewBox=\"0 0 24 24\"\n",
              "       width=\"24px\">\n",
              "    <path d=\"M0 0h24v24H0V0z\" fill=\"none\"/>\n",
              "    <path d=\"M18.56 5.44l.94 2.06.94-2.06 2.06-.94-2.06-.94-.94-2.06-.94 2.06-2.06.94zm-11 1L8.5 8.5l.94-2.06 2.06-.94-2.06-.94L8.5 2.5l-.94 2.06-2.06.94zm10 10l.94 2.06.94-2.06 2.06-.94-2.06-.94-.94-2.06-.94 2.06-2.06.94z\"/><path d=\"M17.41 7.96l-1.37-1.37c-.4-.4-.92-.59-1.43-.59-.52 0-1.04.2-1.43.59L10.3 9.45l-7.72 7.72c-.78.78-.78 2.05 0 2.83L4 21.41c.39.39.9.59 1.41.59.51 0 1.02-.2 1.41-.59l7.78-7.78 2.81-2.81c.8-.78.8-2.07 0-2.86zM5.41 20L4 18.59l7.72-7.72 1.47 1.35L5.41 20z\"/>\n",
              "  </svg>\n",
              "      </button>\n",
              "      \n",
              "  <style>\n",
              "    .colab-df-container {\n",
              "      display:flex;\n",
              "      flex-wrap:wrap;\n",
              "      gap: 12px;\n",
              "    }\n",
              "\n",
              "    .colab-df-convert {\n",
              "      background-color: #E8F0FE;\n",
              "      border: none;\n",
              "      border-radius: 50%;\n",
              "      cursor: pointer;\n",
              "      display: none;\n",
              "      fill: #1967D2;\n",
              "      height: 32px;\n",
              "      padding: 0 0 0 0;\n",
              "      width: 32px;\n",
              "    }\n",
              "\n",
              "    .colab-df-convert:hover {\n",
              "      background-color: #E2EBFA;\n",
              "      box-shadow: 0px 1px 2px rgba(60, 64, 67, 0.3), 0px 1px 3px 1px rgba(60, 64, 67, 0.15);\n",
              "      fill: #174EA6;\n",
              "    }\n",
              "\n",
              "    [theme=dark] .colab-df-convert {\n",
              "      background-color: #3B4455;\n",
              "      fill: #D2E3FC;\n",
              "    }\n",
              "\n",
              "    [theme=dark] .colab-df-convert:hover {\n",
              "      background-color: #434B5C;\n",
              "      box-shadow: 0px 1px 3px 1px rgba(0, 0, 0, 0.15);\n",
              "      filter: drop-shadow(0px 1px 2px rgba(0, 0, 0, 0.3));\n",
              "      fill: #FFFFFF;\n",
              "    }\n",
              "  </style>\n",
              "\n",
              "      <script>\n",
              "        const buttonEl =\n",
              "          document.querySelector('#df-312c6a54-b681-4453-9e8c-b1ed601269c9 button.colab-df-convert');\n",
              "        buttonEl.style.display =\n",
              "          google.colab.kernel.accessAllowed ? 'block' : 'none';\n",
              "\n",
              "        async function convertToInteractive(key) {\n",
              "          const element = document.querySelector('#df-312c6a54-b681-4453-9e8c-b1ed601269c9');\n",
              "          const dataTable =\n",
              "            await google.colab.kernel.invokeFunction('convertToInteractive',\n",
              "                                                     [key], {});\n",
              "          if (!dataTable) return;\n",
              "\n",
              "          const docLinkHtml = 'Like what you see? Visit the ' +\n",
              "            '<a target=\"_blank\" href=https://colab.research.google.com/notebooks/data_table.ipynb>data table notebook</a>'\n",
              "            + ' to learn more about interactive tables.';\n",
              "          element.innerHTML = '';\n",
              "          dataTable['output_type'] = 'display_data';\n",
              "          await google.colab.output.renderOutput(dataTable, element);\n",
              "          const docLink = document.createElement('div');\n",
              "          docLink.innerHTML = docLinkHtml;\n",
              "          element.appendChild(docLink);\n",
              "        }\n",
              "      </script>\n",
              "    </div>\n",
              "  </div>\n",
              "  "
            ]
          },
          "metadata": {},
          "execution_count": 7
        }
      ]
    },
    {
      "cell_type": "code",
      "source": [
        "cat_columns = df.select_dtypes(['object']).columns\n",
        "cat_columns"
      ],
      "metadata": {
        "colab": {
          "base_uri": "https://localhost:8080/"
        },
        "id": "60yCP7czPdI4",
        "outputId": "9c770f9a-a5d1-4ac8-aae3-17cd1bb7ae88"
      },
      "execution_count": 8,
      "outputs": [
        {
          "output_type": "execute_result",
          "data": {
            "text/plain": [
              "Index(['country', 'rating', 'genre'], dtype='object')"
            ]
          },
          "metadata": {},
          "execution_count": 8
        }
      ]
    },
    {
      "cell_type": "code",
      "source": [
        "# Change data type from object to category\n",
        "df['country'] = df['country'].astype('category')\n",
        "df['rating'] = df['rating'].astype('category')\n",
        "df['genre'] = df['genre'].astype('category')"
      ],
      "metadata": {
        "id": "wu7exIKRRPON"
      },
      "execution_count": 9,
      "outputs": []
    },
    {
      "cell_type": "code",
      "source": [
        "# Change values on columns with categories to numerical value (code)\n",
        "# def codes(x):\n",
        "#  return x.cat.codes\n",
        "df[cat_columns] = df[cat_columns].apply(lambda x: x.cat.codes)\n",
        "df"
      ],
      "metadata": {
        "colab": {
          "base_uri": "https://localhost:8080/",
          "height": 419
        },
        "id": "ihKamtO6PxNl",
        "outputId": "1fd0a5ec-6830-47ae-c96d-25f13c8ae84e"
      },
      "execution_count": 10,
      "outputs": [
        {
          "output_type": "execute_result",
          "data": {
            "text/plain": [
              "      country  release_year  rating  duration  genre  film_rating\n",
              "0          72          2021       3      46.5      6          7.0\n",
              "1          72          2021      10      46.5      2          7.7\n",
              "2          72          2015       6      46.5      7          7.5\n",
              "3          37          2019       9      46.5      4          7.3\n",
              "4          16          2020       7      46.5      7          7.9\n",
              "...       ...           ...     ...       ...    ...          ...\n",
              "6123       27          2012       9     154.5      7          3.6\n",
              "6124       27          2003       6     154.5      7          3.8\n",
              "6125       72          2007       5     154.5      5          3.3\n",
              "6126       27          2005       9     154.5      4          3.4\n",
              "6127       13          2015       8     154.5      7          3.1\n",
              "\n",
              "[6128 rows x 6 columns]"
            ],
            "text/html": [
              "\n",
              "  <div id=\"df-2ba536d5-2380-48a6-9396-505b79078334\">\n",
              "    <div class=\"colab-df-container\">\n",
              "      <div>\n",
              "<style scoped>\n",
              "    .dataframe tbody tr th:only-of-type {\n",
              "        vertical-align: middle;\n",
              "    }\n",
              "\n",
              "    .dataframe tbody tr th {\n",
              "        vertical-align: top;\n",
              "    }\n",
              "\n",
              "    .dataframe thead th {\n",
              "        text-align: right;\n",
              "    }\n",
              "</style>\n",
              "<table border=\"1\" class=\"dataframe\">\n",
              "  <thead>\n",
              "    <tr style=\"text-align: right;\">\n",
              "      <th></th>\n",
              "      <th>country</th>\n",
              "      <th>release_year</th>\n",
              "      <th>rating</th>\n",
              "      <th>duration</th>\n",
              "      <th>genre</th>\n",
              "      <th>film_rating</th>\n",
              "    </tr>\n",
              "  </thead>\n",
              "  <tbody>\n",
              "    <tr>\n",
              "      <th>0</th>\n",
              "      <td>72</td>\n",
              "      <td>2021</td>\n",
              "      <td>3</td>\n",
              "      <td>46.5</td>\n",
              "      <td>6</td>\n",
              "      <td>7.0</td>\n",
              "    </tr>\n",
              "    <tr>\n",
              "      <th>1</th>\n",
              "      <td>72</td>\n",
              "      <td>2021</td>\n",
              "      <td>10</td>\n",
              "      <td>46.5</td>\n",
              "      <td>2</td>\n",
              "      <td>7.7</td>\n",
              "    </tr>\n",
              "    <tr>\n",
              "      <th>2</th>\n",
              "      <td>72</td>\n",
              "      <td>2015</td>\n",
              "      <td>6</td>\n",
              "      <td>46.5</td>\n",
              "      <td>7</td>\n",
              "      <td>7.5</td>\n",
              "    </tr>\n",
              "    <tr>\n",
              "      <th>3</th>\n",
              "      <td>37</td>\n",
              "      <td>2019</td>\n",
              "      <td>9</td>\n",
              "      <td>46.5</td>\n",
              "      <td>4</td>\n",
              "      <td>7.3</td>\n",
              "    </tr>\n",
              "    <tr>\n",
              "      <th>4</th>\n",
              "      <td>16</td>\n",
              "      <td>2020</td>\n",
              "      <td>7</td>\n",
              "      <td>46.5</td>\n",
              "      <td>7</td>\n",
              "      <td>7.9</td>\n",
              "    </tr>\n",
              "    <tr>\n",
              "      <th>...</th>\n",
              "      <td>...</td>\n",
              "      <td>...</td>\n",
              "      <td>...</td>\n",
              "      <td>...</td>\n",
              "      <td>...</td>\n",
              "      <td>...</td>\n",
              "    </tr>\n",
              "    <tr>\n",
              "      <th>6123</th>\n",
              "      <td>27</td>\n",
              "      <td>2012</td>\n",
              "      <td>9</td>\n",
              "      <td>154.5</td>\n",
              "      <td>7</td>\n",
              "      <td>3.6</td>\n",
              "    </tr>\n",
              "    <tr>\n",
              "      <th>6124</th>\n",
              "      <td>27</td>\n",
              "      <td>2003</td>\n",
              "      <td>6</td>\n",
              "      <td>154.5</td>\n",
              "      <td>7</td>\n",
              "      <td>3.8</td>\n",
              "    </tr>\n",
              "    <tr>\n",
              "      <th>6125</th>\n",
              "      <td>72</td>\n",
              "      <td>2007</td>\n",
              "      <td>5</td>\n",
              "      <td>154.5</td>\n",
              "      <td>5</td>\n",
              "      <td>3.3</td>\n",
              "    </tr>\n",
              "    <tr>\n",
              "      <th>6126</th>\n",
              "      <td>27</td>\n",
              "      <td>2005</td>\n",
              "      <td>9</td>\n",
              "      <td>154.5</td>\n",
              "      <td>4</td>\n",
              "      <td>3.4</td>\n",
              "    </tr>\n",
              "    <tr>\n",
              "      <th>6127</th>\n",
              "      <td>13</td>\n",
              "      <td>2015</td>\n",
              "      <td>8</td>\n",
              "      <td>154.5</td>\n",
              "      <td>7</td>\n",
              "      <td>3.1</td>\n",
              "    </tr>\n",
              "  </tbody>\n",
              "</table>\n",
              "<p>6128 rows × 6 columns</p>\n",
              "</div>\n",
              "      <button class=\"colab-df-convert\" onclick=\"convertToInteractive('df-2ba536d5-2380-48a6-9396-505b79078334')\"\n",
              "              title=\"Convert this dataframe to an interactive table.\"\n",
              "              style=\"display:none;\">\n",
              "        \n",
              "  <svg xmlns=\"http://www.w3.org/2000/svg\" height=\"24px\"viewBox=\"0 0 24 24\"\n",
              "       width=\"24px\">\n",
              "    <path d=\"M0 0h24v24H0V0z\" fill=\"none\"/>\n",
              "    <path d=\"M18.56 5.44l.94 2.06.94-2.06 2.06-.94-2.06-.94-.94-2.06-.94 2.06-2.06.94zm-11 1L8.5 8.5l.94-2.06 2.06-.94-2.06-.94L8.5 2.5l-.94 2.06-2.06.94zm10 10l.94 2.06.94-2.06 2.06-.94-2.06-.94-.94-2.06-.94 2.06-2.06.94z\"/><path d=\"M17.41 7.96l-1.37-1.37c-.4-.4-.92-.59-1.43-.59-.52 0-1.04.2-1.43.59L10.3 9.45l-7.72 7.72c-.78.78-.78 2.05 0 2.83L4 21.41c.39.39.9.59 1.41.59.51 0 1.02-.2 1.41-.59l7.78-7.78 2.81-2.81c.8-.78.8-2.07 0-2.86zM5.41 20L4 18.59l7.72-7.72 1.47 1.35L5.41 20z\"/>\n",
              "  </svg>\n",
              "      </button>\n",
              "      \n",
              "  <style>\n",
              "    .colab-df-container {\n",
              "      display:flex;\n",
              "      flex-wrap:wrap;\n",
              "      gap: 12px;\n",
              "    }\n",
              "\n",
              "    .colab-df-convert {\n",
              "      background-color: #E8F0FE;\n",
              "      border: none;\n",
              "      border-radius: 50%;\n",
              "      cursor: pointer;\n",
              "      display: none;\n",
              "      fill: #1967D2;\n",
              "      height: 32px;\n",
              "      padding: 0 0 0 0;\n",
              "      width: 32px;\n",
              "    }\n",
              "\n",
              "    .colab-df-convert:hover {\n",
              "      background-color: #E2EBFA;\n",
              "      box-shadow: 0px 1px 2px rgba(60, 64, 67, 0.3), 0px 1px 3px 1px rgba(60, 64, 67, 0.15);\n",
              "      fill: #174EA6;\n",
              "    }\n",
              "\n",
              "    [theme=dark] .colab-df-convert {\n",
              "      background-color: #3B4455;\n",
              "      fill: #D2E3FC;\n",
              "    }\n",
              "\n",
              "    [theme=dark] .colab-df-convert:hover {\n",
              "      background-color: #434B5C;\n",
              "      box-shadow: 0px 1px 3px 1px rgba(0, 0, 0, 0.15);\n",
              "      filter: drop-shadow(0px 1px 2px rgba(0, 0, 0, 0.3));\n",
              "      fill: #FFFFFF;\n",
              "    }\n",
              "  </style>\n",
              "\n",
              "      <script>\n",
              "        const buttonEl =\n",
              "          document.querySelector('#df-2ba536d5-2380-48a6-9396-505b79078334 button.colab-df-convert');\n",
              "        buttonEl.style.display =\n",
              "          google.colab.kernel.accessAllowed ? 'block' : 'none';\n",
              "\n",
              "        async function convertToInteractive(key) {\n",
              "          const element = document.querySelector('#df-2ba536d5-2380-48a6-9396-505b79078334');\n",
              "          const dataTable =\n",
              "            await google.colab.kernel.invokeFunction('convertToInteractive',\n",
              "                                                     [key], {});\n",
              "          if (!dataTable) return;\n",
              "\n",
              "          const docLinkHtml = 'Like what you see? Visit the ' +\n",
              "            '<a target=\"_blank\" href=https://colab.research.google.com/notebooks/data_table.ipynb>data table notebook</a>'\n",
              "            + ' to learn more about interactive tables.';\n",
              "          element.innerHTML = '';\n",
              "          dataTable['output_type'] = 'display_data';\n",
              "          await google.colab.output.renderOutput(dataTable, element);\n",
              "          const docLink = document.createElement('div');\n",
              "          docLink.innerHTML = docLinkHtml;\n",
              "          element.appendChild(docLink);\n",
              "        }\n",
              "      </script>\n",
              "    </div>\n",
              "  </div>\n",
              "  "
            ]
          },
          "metadata": {},
          "execution_count": 10
        }
      ]
    },
    {
      "cell_type": "code",
      "source": [
        "import matplotlib.pyplot as plt\n",
        "import seaborn as sns\n",
        "\n",
        "# Change plot size \n",
        "plt.figure(figsize=(15, 10))\n",
        "# Correlation visualization\n",
        "heatmap = sns.heatmap(df.corr(), vmin=-1, vmax=1, annot=True)\n",
        "# Format the plot\n",
        "heatmap.set_title('Correlation Heatmap', fontdict={'fontsize':12}, pad=12);"
      ],
      "metadata": {
        "colab": {
          "base_uri": "https://localhost:8080/",
          "height": 614
        },
        "id": "0kEypJiC5cCP",
        "outputId": "8b3505aa-2180-4f9a-8687-026ba118bf2c"
      },
      "execution_count": 11,
      "outputs": [
        {
          "output_type": "display_data",
          "data": {
            "text/plain": [
              "<Figure size 1080x720 with 2 Axes>"
            ],
            "image/png": "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\n"
          },
          "metadata": {
            "needs_background": "light"
          }
        }
      ]
    },
    {
      "cell_type": "markdown",
      "source": [
        "# Linear Regression & Model Evaluation"
      ],
      "metadata": {
        "id": "WAa7TvVO_kU6"
      }
    },
    {
      "cell_type": "code",
      "source": [
        "# Import libraries\n",
        "from sklearn.model_selection import train_test_split\n",
        "from sklearn.linear_model import LinearRegression\n",
        "from sklearn import metrics"
      ],
      "metadata": {
        "id": "WXvqj6j1YbyE"
      },
      "execution_count": 12,
      "outputs": []
    },
    {
      "cell_type": "markdown",
      "source": [
        "## Model 1: duration, country dan genre"
      ],
      "metadata": {
        "id": "unOHBT4tR29S"
      }
    },
    {
      "cell_type": "code",
      "source": [
        "# Define column as model features\n",
        "x1 = df[['duration','country', 'genre']]\n",
        "# Define column as target variable\n",
        "y1 = df['film_rating']\n",
        "\n",
        "# Divide the dataset into data training and testing\n",
        "x1_train, x1_test, y1_train, y1_test = train_test_split(x1, y1, test_size=0.3)\n",
        "\n",
        "print(\"X_train : \", x1_train.shape)\n",
        "print(\"X_test : \", x1_test.shape)\n",
        "print(\"Y_train : \", y1_train.shape)\n",
        "print(\"Y_test : \", y1_test.shape)"
      ],
      "metadata": {
        "id": "KommJ7zkjgUH",
        "colab": {
          "base_uri": "https://localhost:8080/"
        },
        "outputId": "1a1c44f7-9b40-4a83-ac1e-9182c35911e3"
      },
      "execution_count": 13,
      "outputs": [
        {
          "output_type": "stream",
          "name": "stdout",
          "text": [
            "X_train :  (4289, 3)\n",
            "X_test :  (1839, 3)\n",
            "Y_train :  (4289,)\n",
            "Y_test :  (1839,)\n"
          ]
        }
      ]
    },
    {
      "cell_type": "code",
      "source": [
        "# Create linear regression model\n",
        "lm1 = LinearRegression()\n",
        "# Train model using training dataset\n",
        "lm1.fit(x1_train,y1_train)"
      ],
      "metadata": {
        "id": "h6pcYWkfkBpU",
        "colab": {
          "base_uri": "https://localhost:8080/"
        },
        "outputId": "ace7ce32-7375-4892-ce1a-7a4ef5d4b3c3"
      },
      "execution_count": 14,
      "outputs": [
        {
          "output_type": "execute_result",
          "data": {
            "text/plain": [
              "LinearRegression()"
            ]
          },
          "metadata": {},
          "execution_count": 14
        }
      ]
    },
    {
      "cell_type": "code",
      "source": [
        "# Use the model to predict film rating by using the testing dataset\n",
        "predictions1 = lm1.predict(x1_test)"
      ],
      "metadata": {
        "id": "tItPMNLkkOAK"
      },
      "execution_count": 15,
      "outputs": []
    },
    {
      "cell_type": "code",
      "source": [
        "# Compare the prediction result with the actual rating\n",
        "df_test_set = x1_test\n",
        "df_test_set = df_test_set.join(y1_test)\n",
        "df_test_set['PREDICTED RATING'] = predictions1\n",
        "df_test_set.head(5)"
      ],
      "metadata": {
        "id": "IWzDhCYylRsP",
        "colab": {
          "base_uri": "https://localhost:8080/",
          "height": 204
        },
        "outputId": "e59924e3-6c1d-448f-930e-aa8e737fa661"
      },
      "execution_count": 16,
      "outputs": [
        {
          "output_type": "execute_result",
          "data": {
            "text/plain": [
              "      duration  country  genre  film_rating  PREDICTED RATING\n",
              "1534      87.0       72      7          5.2          5.261490\n",
              "2882      97.0       72      7          4.5          4.890877\n",
              "3644     103.0       40      2          4.6          4.670168\n",
              "1492      86.0       72      6          5.5          5.297079\n",
              "2165      92.0       72      7          4.9          5.076183"
            ],
            "text/html": [
              "\n",
              "  <div id=\"df-fbafaa6a-8d53-452b-83dc-8872357f6ece\">\n",
              "    <div class=\"colab-df-container\">\n",
              "      <div>\n",
              "<style scoped>\n",
              "    .dataframe tbody tr th:only-of-type {\n",
              "        vertical-align: middle;\n",
              "    }\n",
              "\n",
              "    .dataframe tbody tr th {\n",
              "        vertical-align: top;\n",
              "    }\n",
              "\n",
              "    .dataframe thead th {\n",
              "        text-align: right;\n",
              "    }\n",
              "</style>\n",
              "<table border=\"1\" class=\"dataframe\">\n",
              "  <thead>\n",
              "    <tr style=\"text-align: right;\">\n",
              "      <th></th>\n",
              "      <th>duration</th>\n",
              "      <th>country</th>\n",
              "      <th>genre</th>\n",
              "      <th>film_rating</th>\n",
              "      <th>PREDICTED RATING</th>\n",
              "    </tr>\n",
              "  </thead>\n",
              "  <tbody>\n",
              "    <tr>\n",
              "      <th>1534</th>\n",
              "      <td>87.0</td>\n",
              "      <td>72</td>\n",
              "      <td>7</td>\n",
              "      <td>5.2</td>\n",
              "      <td>5.261490</td>\n",
              "    </tr>\n",
              "    <tr>\n",
              "      <th>2882</th>\n",
              "      <td>97.0</td>\n",
              "      <td>72</td>\n",
              "      <td>7</td>\n",
              "      <td>4.5</td>\n",
              "      <td>4.890877</td>\n",
              "    </tr>\n",
              "    <tr>\n",
              "      <th>3644</th>\n",
              "      <td>103.0</td>\n",
              "      <td>40</td>\n",
              "      <td>2</td>\n",
              "      <td>4.6</td>\n",
              "      <td>4.670168</td>\n",
              "    </tr>\n",
              "    <tr>\n",
              "      <th>1492</th>\n",
              "      <td>86.0</td>\n",
              "      <td>72</td>\n",
              "      <td>6</td>\n",
              "      <td>5.5</td>\n",
              "      <td>5.297079</td>\n",
              "    </tr>\n",
              "    <tr>\n",
              "      <th>2165</th>\n",
              "      <td>92.0</td>\n",
              "      <td>72</td>\n",
              "      <td>7</td>\n",
              "      <td>4.9</td>\n",
              "      <td>5.076183</td>\n",
              "    </tr>\n",
              "  </tbody>\n",
              "</table>\n",
              "</div>\n",
              "      <button class=\"colab-df-convert\" onclick=\"convertToInteractive('df-fbafaa6a-8d53-452b-83dc-8872357f6ece')\"\n",
              "              title=\"Convert this dataframe to an interactive table.\"\n",
              "              style=\"display:none;\">\n",
              "        \n",
              "  <svg xmlns=\"http://www.w3.org/2000/svg\" height=\"24px\"viewBox=\"0 0 24 24\"\n",
              "       width=\"24px\">\n",
              "    <path d=\"M0 0h24v24H0V0z\" fill=\"none\"/>\n",
              "    <path d=\"M18.56 5.44l.94 2.06.94-2.06 2.06-.94-2.06-.94-.94-2.06-.94 2.06-2.06.94zm-11 1L8.5 8.5l.94-2.06 2.06-.94-2.06-.94L8.5 2.5l-.94 2.06-2.06.94zm10 10l.94 2.06.94-2.06 2.06-.94-2.06-.94-.94-2.06-.94 2.06-2.06.94z\"/><path d=\"M17.41 7.96l-1.37-1.37c-.4-.4-.92-.59-1.43-.59-.52 0-1.04.2-1.43.59L10.3 9.45l-7.72 7.72c-.78.78-.78 2.05 0 2.83L4 21.41c.39.39.9.59 1.41.59.51 0 1.02-.2 1.41-.59l7.78-7.78 2.81-2.81c.8-.78.8-2.07 0-2.86zM5.41 20L4 18.59l7.72-7.72 1.47 1.35L5.41 20z\"/>\n",
              "  </svg>\n",
              "      </button>\n",
              "      \n",
              "  <style>\n",
              "    .colab-df-container {\n",
              "      display:flex;\n",
              "      flex-wrap:wrap;\n",
              "      gap: 12px;\n",
              "    }\n",
              "\n",
              "    .colab-df-convert {\n",
              "      background-color: #E8F0FE;\n",
              "      border: none;\n",
              "      border-radius: 50%;\n",
              "      cursor: pointer;\n",
              "      display: none;\n",
              "      fill: #1967D2;\n",
              "      height: 32px;\n",
              "      padding: 0 0 0 0;\n",
              "      width: 32px;\n",
              "    }\n",
              "\n",
              "    .colab-df-convert:hover {\n",
              "      background-color: #E2EBFA;\n",
              "      box-shadow: 0px 1px 2px rgba(60, 64, 67, 0.3), 0px 1px 3px 1px rgba(60, 64, 67, 0.15);\n",
              "      fill: #174EA6;\n",
              "    }\n",
              "\n",
              "    [theme=dark] .colab-df-convert {\n",
              "      background-color: #3B4455;\n",
              "      fill: #D2E3FC;\n",
              "    }\n",
              "\n",
              "    [theme=dark] .colab-df-convert:hover {\n",
              "      background-color: #434B5C;\n",
              "      box-shadow: 0px 1px 3px 1px rgba(0, 0, 0, 0.15);\n",
              "      filter: drop-shadow(0px 1px 2px rgba(0, 0, 0, 0.3));\n",
              "      fill: #FFFFFF;\n",
              "    }\n",
              "  </style>\n",
              "\n",
              "      <script>\n",
              "        const buttonEl =\n",
              "          document.querySelector('#df-fbafaa6a-8d53-452b-83dc-8872357f6ece button.colab-df-convert');\n",
              "        buttonEl.style.display =\n",
              "          google.colab.kernel.accessAllowed ? 'block' : 'none';\n",
              "\n",
              "        async function convertToInteractive(key) {\n",
              "          const element = document.querySelector('#df-fbafaa6a-8d53-452b-83dc-8872357f6ece');\n",
              "          const dataTable =\n",
              "            await google.colab.kernel.invokeFunction('convertToInteractive',\n",
              "                                                     [key], {});\n",
              "          if (!dataTable) return;\n",
              "\n",
              "          const docLinkHtml = 'Like what you see? Visit the ' +\n",
              "            '<a target=\"_blank\" href=https://colab.research.google.com/notebooks/data_table.ipynb>data table notebook</a>'\n",
              "            + ' to learn more about interactive tables.';\n",
              "          element.innerHTML = '';\n",
              "          dataTable['output_type'] = 'display_data';\n",
              "          await google.colab.output.renderOutput(dataTable, element);\n",
              "          const docLink = document.createElement('div');\n",
              "          docLink.innerHTML = docLinkHtml;\n",
              "          element.appendChild(docLink);\n",
              "        }\n",
              "      </script>\n",
              "    </div>\n",
              "  </div>\n",
              "  "
            ]
          },
          "metadata": {},
          "execution_count": 16
        }
      ]
    },
    {
      "cell_type": "code",
      "source": [
        "# Compare the prediction result with the actual rating\n",
        "plt.figure(figsize=(8, 6))\n",
        "plt.scatter(y1_test, predictions1)\n",
        "plt.title(\"Results\")\n",
        "plt.xlabel(\"Actual Rating\")\n",
        "plt.ylabel(\"Predicted Rating\")"
      ],
      "metadata": {
        "id": "6Jliqnailb0M",
        "colab": {
          "base_uri": "https://localhost:8080/",
          "height": 421
        },
        "outputId": "937fc546-f53e-43c1-f484-d3d21c8ddb15"
      },
      "execution_count": 17,
      "outputs": [
        {
          "output_type": "execute_result",
          "data": {
            "text/plain": [
              "Text(0, 0.5, 'Predicted Rating')"
            ]
          },
          "metadata": {},
          "execution_count": 17
        },
        {
          "output_type": "display_data",
          "data": {
            "text/plain": [
              "<Figure size 576x432 with 1 Axes>"
            ],
            "image/png": "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\n"
          },
          "metadata": {
            "needs_background": "light"
          }
        }
      ]
    },
    {
      "cell_type": "code",
      "source": [
        "import numpy as np\n",
        "print('MAE:', metrics.mean_absolute_error(y1_test, predictions1))\n",
        "print('MSE:', metrics.mean_squared_error(y1_test, predictions1))\n",
        "print('RMSE:', np.sqrt(metrics.mean_squared_error(y1_test, predictions1)))"
      ],
      "metadata": {
        "id": "-eeTChZTlkTI",
        "colab": {
          "base_uri": "https://localhost:8080/"
        },
        "outputId": "c8d6e35f-0ac5-4aa8-ed65-b629d26fcd58"
      },
      "execution_count": 18,
      "outputs": [
        {
          "output_type": "stream",
          "name": "stdout",
          "text": [
            "MAE: 0.40665798822968596\n",
            "MSE: 0.2534140846750854\n",
            "RMSE: 0.5034025076170017\n"
          ]
        }
      ]
    },
    {
      "cell_type": "markdown",
      "source": [
        "## Model 2: genre, duration dan release_year"
      ],
      "metadata": {
        "id": "TbZwcPvcg22Q"
      }
    },
    {
      "cell_type": "code",
      "source": [
        "# Define columns as model features\n",
        "x2 = df[['genre','duration','release_year']]\n",
        "# Define column as target variable\n",
        "y2 = df['film_rating']\n",
        "\n",
        "# Divide dataset into data training and testing\n",
        "x2_train, x2_test, y2_train, y2_test = train_test_split(x2, y2, test_size=0.3)\n",
        "\n",
        "print(\"X_train : \", x2_train.shape)\n",
        "print(\"X_test : \", x2_test.shape)\n",
        "print(\"Y_train : \", y2_train.shape)\n",
        "print(\"Y_test : \", y2_test.shape)"
      ],
      "metadata": {
        "colab": {
          "base_uri": "https://localhost:8080/"
        },
        "outputId": "1bd213f0-519e-488b-e64f-5ce60c404fc0",
        "id": "-3450cX2g22R"
      },
      "execution_count": 19,
      "outputs": [
        {
          "output_type": "stream",
          "name": "stdout",
          "text": [
            "X_train :  (4289, 3)\n",
            "X_test :  (1839, 3)\n",
            "Y_train :  (4289,)\n",
            "Y_test :  (1839,)\n"
          ]
        }
      ]
    },
    {
      "cell_type": "code",
      "source": [
        "# Create linear regression model\n",
        "lm2 = LinearRegression()\n",
        "# Train model on training dataset\n",
        "lm2.fit(x2_train,y2_train)"
      ],
      "metadata": {
        "colab": {
          "base_uri": "https://localhost:8080/"
        },
        "outputId": "443a5d03-e4d3-4a64-ea72-97b647cc4a06",
        "id": "Tt-wxpTvg22S"
      },
      "execution_count": 20,
      "outputs": [
        {
          "output_type": "execute_result",
          "data": {
            "text/plain": [
              "LinearRegression()"
            ]
          },
          "metadata": {},
          "execution_count": 20
        }
      ]
    },
    {
      "cell_type": "code",
      "source": [
        "predictions2 = lm1.predict(x1_test)"
      ],
      "metadata": {
        "id": "UH0mStYJg22T"
      },
      "execution_count": 21,
      "outputs": []
    },
    {
      "cell_type": "code",
      "source": [
        "df_test_set = x2_test\n",
        "df_test_set = df_test_set.join(y2_test)\n",
        "df_test_set['PREDICTED RATING'] = predictions2\n",
        "df_test_set.head(5)"
      ],
      "metadata": {
        "colab": {
          "base_uri": "https://localhost:8080/",
          "height": 204
        },
        "outputId": "cd2953dc-9cef-412c-bc66-627dcf41c69a",
        "id": "NivB7N4Fg22T"
      },
      "execution_count": 22,
      "outputs": [
        {
          "output_type": "execute_result",
          "data": {
            "text/plain": [
              "      genre  duration  release_year  film_rating  PREDICTED RATING\n",
              "3882      7     106.0          2004          4.1          5.261490\n",
              "72        6      46.5          2019          7.0          4.890877\n",
              "864       6      74.0          2017          5.4          4.670168\n",
              "3461      7     102.0          2018          4.2          5.297079\n",
              "1332      6      84.0          2009          5.4          5.076183"
            ],
            "text/html": [
              "\n",
              "  <div id=\"df-3bac1c3f-d98d-4eb3-942a-1095b21ce6d7\">\n",
              "    <div class=\"colab-df-container\">\n",
              "      <div>\n",
              "<style scoped>\n",
              "    .dataframe tbody tr th:only-of-type {\n",
              "        vertical-align: middle;\n",
              "    }\n",
              "\n",
              "    .dataframe tbody tr th {\n",
              "        vertical-align: top;\n",
              "    }\n",
              "\n",
              "    .dataframe thead th {\n",
              "        text-align: right;\n",
              "    }\n",
              "</style>\n",
              "<table border=\"1\" class=\"dataframe\">\n",
              "  <thead>\n",
              "    <tr style=\"text-align: right;\">\n",
              "      <th></th>\n",
              "      <th>genre</th>\n",
              "      <th>duration</th>\n",
              "      <th>release_year</th>\n",
              "      <th>film_rating</th>\n",
              "      <th>PREDICTED RATING</th>\n",
              "    </tr>\n",
              "  </thead>\n",
              "  <tbody>\n",
              "    <tr>\n",
              "      <th>3882</th>\n",
              "      <td>7</td>\n",
              "      <td>106.0</td>\n",
              "      <td>2004</td>\n",
              "      <td>4.1</td>\n",
              "      <td>5.261490</td>\n",
              "    </tr>\n",
              "    <tr>\n",
              "      <th>72</th>\n",
              "      <td>6</td>\n",
              "      <td>46.5</td>\n",
              "      <td>2019</td>\n",
              "      <td>7.0</td>\n",
              "      <td>4.890877</td>\n",
              "    </tr>\n",
              "    <tr>\n",
              "      <th>864</th>\n",
              "      <td>6</td>\n",
              "      <td>74.0</td>\n",
              "      <td>2017</td>\n",
              "      <td>5.4</td>\n",
              "      <td>4.670168</td>\n",
              "    </tr>\n",
              "    <tr>\n",
              "      <th>3461</th>\n",
              "      <td>7</td>\n",
              "      <td>102.0</td>\n",
              "      <td>2018</td>\n",
              "      <td>4.2</td>\n",
              "      <td>5.297079</td>\n",
              "    </tr>\n",
              "    <tr>\n",
              "      <th>1332</th>\n",
              "      <td>6</td>\n",
              "      <td>84.0</td>\n",
              "      <td>2009</td>\n",
              "      <td>5.4</td>\n",
              "      <td>5.076183</td>\n",
              "    </tr>\n",
              "  </tbody>\n",
              "</table>\n",
              "</div>\n",
              "      <button class=\"colab-df-convert\" onclick=\"convertToInteractive('df-3bac1c3f-d98d-4eb3-942a-1095b21ce6d7')\"\n",
              "              title=\"Convert this dataframe to an interactive table.\"\n",
              "              style=\"display:none;\">\n",
              "        \n",
              "  <svg xmlns=\"http://www.w3.org/2000/svg\" height=\"24px\"viewBox=\"0 0 24 24\"\n",
              "       width=\"24px\">\n",
              "    <path d=\"M0 0h24v24H0V0z\" fill=\"none\"/>\n",
              "    <path d=\"M18.56 5.44l.94 2.06.94-2.06 2.06-.94-2.06-.94-.94-2.06-.94 2.06-2.06.94zm-11 1L8.5 8.5l.94-2.06 2.06-.94-2.06-.94L8.5 2.5l-.94 2.06-2.06.94zm10 10l.94 2.06.94-2.06 2.06-.94-2.06-.94-.94-2.06-.94 2.06-2.06.94z\"/><path d=\"M17.41 7.96l-1.37-1.37c-.4-.4-.92-.59-1.43-.59-.52 0-1.04.2-1.43.59L10.3 9.45l-7.72 7.72c-.78.78-.78 2.05 0 2.83L4 21.41c.39.39.9.59 1.41.59.51 0 1.02-.2 1.41-.59l7.78-7.78 2.81-2.81c.8-.78.8-2.07 0-2.86zM5.41 20L4 18.59l7.72-7.72 1.47 1.35L5.41 20z\"/>\n",
              "  </svg>\n",
              "      </button>\n",
              "      \n",
              "  <style>\n",
              "    .colab-df-container {\n",
              "      display:flex;\n",
              "      flex-wrap:wrap;\n",
              "      gap: 12px;\n",
              "    }\n",
              "\n",
              "    .colab-df-convert {\n",
              "      background-color: #E8F0FE;\n",
              "      border: none;\n",
              "      border-radius: 50%;\n",
              "      cursor: pointer;\n",
              "      display: none;\n",
              "      fill: #1967D2;\n",
              "      height: 32px;\n",
              "      padding: 0 0 0 0;\n",
              "      width: 32px;\n",
              "    }\n",
              "\n",
              "    .colab-df-convert:hover {\n",
              "      background-color: #E2EBFA;\n",
              "      box-shadow: 0px 1px 2px rgba(60, 64, 67, 0.3), 0px 1px 3px 1px rgba(60, 64, 67, 0.15);\n",
              "      fill: #174EA6;\n",
              "    }\n",
              "\n",
              "    [theme=dark] .colab-df-convert {\n",
              "      background-color: #3B4455;\n",
              "      fill: #D2E3FC;\n",
              "    }\n",
              "\n",
              "    [theme=dark] .colab-df-convert:hover {\n",
              "      background-color: #434B5C;\n",
              "      box-shadow: 0px 1px 3px 1px rgba(0, 0, 0, 0.15);\n",
              "      filter: drop-shadow(0px 1px 2px rgba(0, 0, 0, 0.3));\n",
              "      fill: #FFFFFF;\n",
              "    }\n",
              "  </style>\n",
              "\n",
              "      <script>\n",
              "        const buttonEl =\n",
              "          document.querySelector('#df-3bac1c3f-d98d-4eb3-942a-1095b21ce6d7 button.colab-df-convert');\n",
              "        buttonEl.style.display =\n",
              "          google.colab.kernel.accessAllowed ? 'block' : 'none';\n",
              "\n",
              "        async function convertToInteractive(key) {\n",
              "          const element = document.querySelector('#df-3bac1c3f-d98d-4eb3-942a-1095b21ce6d7');\n",
              "          const dataTable =\n",
              "            await google.colab.kernel.invokeFunction('convertToInteractive',\n",
              "                                                     [key], {});\n",
              "          if (!dataTable) return;\n",
              "\n",
              "          const docLinkHtml = 'Like what you see? Visit the ' +\n",
              "            '<a target=\"_blank\" href=https://colab.research.google.com/notebooks/data_table.ipynb>data table notebook</a>'\n",
              "            + ' to learn more about interactive tables.';\n",
              "          element.innerHTML = '';\n",
              "          dataTable['output_type'] = 'display_data';\n",
              "          await google.colab.output.renderOutput(dataTable, element);\n",
              "          const docLink = document.createElement('div');\n",
              "          docLink.innerHTML = docLinkHtml;\n",
              "          element.appendChild(docLink);\n",
              "        }\n",
              "      </script>\n",
              "    </div>\n",
              "  </div>\n",
              "  "
            ]
          },
          "metadata": {},
          "execution_count": 22
        }
      ]
    },
    {
      "cell_type": "code",
      "source": [
        "plt.figure(figsize=(8, 6))\n",
        "plt.scatter(y2_test, predictions2)\n",
        "plt.title(\"Results\")\n",
        "plt.xlabel(\"Actual Rating\")\n",
        "plt.ylabel(\"Predicted Rating\")"
      ],
      "metadata": {
        "colab": {
          "base_uri": "https://localhost:8080/",
          "height": 421
        },
        "outputId": "b797d093-044c-4e41-cccd-557241228168",
        "id": "mrZettw6g22U"
      },
      "execution_count": 23,
      "outputs": [
        {
          "output_type": "execute_result",
          "data": {
            "text/plain": [
              "Text(0, 0.5, 'Predicted Rating')"
            ]
          },
          "metadata": {},
          "execution_count": 23
        },
        {
          "output_type": "display_data",
          "data": {
            "text/plain": [
              "<Figure size 576x432 with 1 Axes>"
            ],
            "image/png": "iVBORw0KGgoAAAANSUhEUgAAAfEAAAGDCAYAAAA72Cm3AAAABHNCSVQICAgIfAhkiAAAAAlwSFlzAAALEgAACxIB0t1+/AAAADh0RVh0U29mdHdhcmUAbWF0cGxvdGxpYiB2ZXJzaW9uMy4yLjIsIGh0dHA6Ly9tYXRwbG90bGliLm9yZy+WH4yJAAAgAElEQVR4nOy9fZxd1Xnf+3tmGIFEsF5sYeNBAox9oZFlIZgiEXx9bXpdErDkscHFFNq4daFu3oOjFGo1GrlyoVXiJq1764Jz2yTGFAvbU8mQEDe280JAsYQQihxTG4yQx28EIWxAIDFa/WPOHp1zZu/1e2aetfbLOev7+egDs/Y5+6y999rrWet5FeccEolEIpFINI+BqjuQSCQSiURibiQhnkgkEolEQ0lCPJFIJBKJhpKEeCKRSCQSDSUJ8UQikUgkGkoS4olEIpFINJQkxBOJRBBE5Ksi8s+q7kci0U8kIZ5I9Cgi8qSIHBGR50Xk+yLy30XkJ0r67Q+IyF+U8VuJRD+ThHgi0dusc879BIALAKwGcEvF/UkkEgFJQjyR6AOcc98HcD+mhDlEZK2I/KWIHBaRvSLy9uyzrV30EyLyYxH5tohc12ofE5FPt33ubBFxInJS+2+JyN8B8EkAl7S0AIdb7VeIyNdb550QkV+LfuGJRI+ThHgi0QeIyJkAfgbAt0RkGMC9ALYAWALg1wB8TkSWisipAP4jgJ9xzp0G4KcAPDKb33LO/Q2ADwF40Dn3E865Ra1Dvwvgn7fO+2YAXw5waYlEX5OEeCLR24yLyI8BHATwQwCbAFwP4D7n3H3OuePOuS8B2AXgitZ3jgN4s4jMd859zzm3P1BfjgH4SRF5lXPuWefcw4HOm0j0LUmIJxK9zWhr5/t2AOcDeA2AswC8r6VKP9xSd78VwBnOuRcAXIOpnfT3ROReETk/UF+uwtRC4YCI/KmIXBLovIlE35KEeCLRBzjn/hTAfwfwm5jalf+Bc25R279TnXO3tT57v3PunQDOAPANAHe0TvMCgAVtp32d7ydz+vA159y7AZwOYBzAZ42XlUj0PUmIJxL9w28DeCeAvwSwTkQuF5FBETlFRN4uImeKyGtF5N0t2/jLAJ7HlHodmLKNv01ElovIQvg93X8A4EwRmQcAIjJPRK4TkYXOuWMAftR23kQiMUeSEE8k+gTn3NMAfh/ALwF4N4B/BeBpTO3MN2BqPhgAcBOA7wI4BOD/AfAvWt//EoC7ATwKYDeAL3p+7ssA9gP4voj8bavtHwF4UkR+hCl1/XUBLy+R6EvEuRlar0QikUgkEg0g7cQTiUQikWgoSYgnEolEItFQkhBPJBKJRKKhJCGeSCQSiURDSUI8kUgkEomGchL/SL14zWte484+++yqu5FIJBKJRGns3r37b51zS7vbGyfEzz77bOzatavqbiQSiUQiURoiciCvPanTE4lEIpFoKEmIJxKJRCLRUJIQTyQSiUSioSQhnkgkEolEQ0lCPJFIJBKJhpKEeCKRSCQSDSUJ8UQikUgkGkoS4olEIpFINJQkxBOJRCKRaCiNy9jWS4zvmcDW+x/Ddw8fwesXzceGy8/D6OrhqruVSCQSiYaQhHhFjO+ZwC2f34cjxyYBABOHj+CWz+8DgCTIE4lEogKauLFKQtyA5YFvvf+xaQGeceTYJLbe/9j0OeowoKx9uO6OB/HA44em/7703CW484ZL1N/fOL4Pd+08iEnnMCiCa9csw5bRlerjrP/s+2s+9iX84MdHp/9+7WnzsPMj71T3X9MH6/etx633MJHoBTQbqzq+C+Kcq7QDs2VkZMSFKIDCJi5G9wMHgPlDg7j1vStVD/Wcm+9F3p0XAN++7UrV+a2TNxOw43smsOGevTg2eaKnQ4OCrVevUl1j9/nzfscnJDeO78OnH3pqxvevX7scW0ZX0uPjeyZw02cfwfG2Gz0gwMf/wQUYXT1Mv9/dt7w+Zv0sGkvjeybwq3c/0vGsBcB/uOYC1XNk44A9o/E9E7jp7kdwvO33BwB8/BrdPWDf11L1YixhJ/ZiUkOIebuoD5fe9mVMHD4y4zvDi+bjgZsvM8+HVkRkt3NupLu9Lx3bsolrsrWAmXQOn37oKWwc36c+h28nreH1i+Z729n5s8l94vAROJxYNY7vmVAdzxOwDzx+CNfd8eD035t37O8YsABwbNJh8479qmvME+Dt7XlC8gc/Poo1H/sSAOQKl/Z2dvxffu7RDgEOAMfdVLvm+3kCvLudjaVfv2fvjMWaa7UD/DmxccCe0S2ff7RDAAPA8VY7ANxZcA+ydvZ9DewesePsHoV4nxN+rPMNO67B+pxZH76bI8Db263zYSz6UojftfPgrNrzYA+cseHy8zB/aLCjbf7QIDZcfp7q/GxyZ8eZgAWAZ188lvuZovbZohGSFl5+pVv8+NvnAhtLRyfzNV1ZO3tObBywZ3TkWP61Zu1FejjX9bmi72tg94gdZ/coxPuc8GOdb6ybHsD+nFkf2MYq9nw4V/pSiE8WmBCK2vNgD5wxunoYt753JYYXzYdgSmXTripn52eTu3WRkdBhHUvsOVnHWR1g94gdZ/coxPuc8GOdb0LMR7HfNbaxqit9KcQHRWbVnkeIBz66ehgP3HwZvn3blXjg5ss67Crs/GxyDzH5L5o/NKv20BQ9DVEeLwPrWGLPiY0D9owGCrpR1B4Ddo/YcXaPQrzPCT/W+SbEfBT7XWMbq6rnwyL6Uohfu2bZrNrzYA/cCjs/m9zZ8UvPXZL7u+3tY+tXYKhrth8aEIytX6G6huvXLve2v/a0ebnHs/brCr6ftbPjJ5+UP7yz9ledPJh7PGt/0+mn5h5vb1/7hsW5n8na2X1mz4mNA/aM/uGa/HuUtbNnFAL2vrHj7B6FeJ8TfqzzTYhNj/U5a/rg21hZ58NYDI6NjVXagdly++23j914442mc1x2/mvxt8+/jP0TP4LD1EruupY37mw4/4xX4YNvPQe/8v/+X/jgW8/B+We8ytSv2Zz//DNehTMXz8e+iefw/EuvYHjRfPzGup+cHnTs+FUXLcPXvv0MDj57QsXU7Z1+/hmvwvIlCzrOMbZ+hXqhwu7zDW87F3ftPIAXjp6wU7V7frPvs+PLFi/AH3/9+x123wEBfvN9q3D+Ga/Cv3jHG/H///kTeLnNbv2qkwfx6OafBgD840vOxr2PfheHXjhh83rT6afiSze9ffrvj3/pm/jxS6/MuPbjDvjgW8+h95k9p+wzvnHge0bWe7ht13dyr2940Xx88K3nzGjPw9oHdo9Cvc+JYqzzjWacM6zP2doH63xoZfPmzd8bGxu7vbu9b0PM6kAdYw57jdj3mIUKNh1rKGUikQhDUYhZSvZSESljWzmMrh6Oej9fv2h+bmxpkxzPfGT3ji2EyogRTiQSM0lCvCI0GdvqQNWTb+zft55/w+Xn5e5U6+7ROhvYQogtSMtYsFY9ThOJqkhCvCKaEAJWtbYgdhrEENen3an2MmxBGnvBWvU4TSSqJAnximiCGrZqbQH7fevkHer6NDvVXhbyVecsqHqcJhJV0pchZnVgw+Xn5YYr1EkNW7W2wJq1znr+EIRIN1l3yogR9lH1OE0kqiQJ8SrpzlFQs9wUVWcLW1iQRCFrt07eZVxfiHSTdaeMGGEfVY/TRKJKkhD3ML5nApfe9mWcc/O9uPS2LwfdPW29/7HcZPp1mtyrTkNYlIgpa9dM3r5nGOr6fL/RD7tElpAmdmKkqsdpIlElySZeQGxnmSZM7lU7bR0uKCyQtW+4/Lzc0oDZ5M2eYYjrY7/RBN+HEDC/gJihflWP00Q4et1/JAZJiBcQ21mmKZN77DhrH6p7lFfns0UZDk/sNzQhaHUPo2sCVY7TRBhSlMHcSOr0AmLvlHtFBRjT5MDu0db7H8OxroLhx46fMEmwZxjC6Yz9BlMlx3Z86wfHukRv0A/+IzFIO/ECYu+Ue0EFGHvlzO6Rpoyn7xmG2KlrxolvlxhbW1BW+FU/7PYTcWmCibGORBXiIrIIwKcAvBlTis5/6px7sO342wH8TwDfbjV93jn30Zh90lJGJq4mqAB9k3MZAsJ3jxYtGMKzOXbzRQumvNfZMwwxabzj/KX49ENP5bZriD1xlRlGl9SgCQvsfU7kE3sn/jsA/sg5d7WIzAOwIOczf+6ce1fkfsyaXtgpW2GTc9Ur56LaPVk7e4YhtC1f+cbTs2rP+62YGh/N+a276DIWcxvH9+GunQcx6RwGRXDtmmWpSlmPwd7nRD7RhLiILATwNgAfAADn3FEAR2P9XgyasFOOCZucq145P3ck33u9vd33DENoW6wLmdgaH3b+ELvovEWCr322bBzf16HtmHRu+u8kyHsHzfucmElMx7ZzADwN4L+JyB4R+ZSInJrzuUtEZK+I/KGI5FZXF5EbRWSXiOx6+mndDidhhwmoqlfOLBkMI0T8sjXRSOwYanb+EM5EgwUB/UXts+WunQdn1Z5oJilpz9yIqU4/CcCFAH7RObdTRH4HwM0A/nXbZx4GcJZz7nkRuQLAOIA3dZ/IOXc7gNuBqXriEfucaIOpYjUr55gOT0dfmZxVex5WbUuInXRsjY/v/CFMIpMFq7ai9tkS+/yJcmBzQT9UBIxBzJ34dwB8xzm3s/X3PZgS6tM4537knHu+9f/3ARgSkddE7FNiFrAQryK1edYeO7zpxWPHZ9Ueg9g76diE2P0MF3y2qH22xN7pJ+KjmQua/i5VRbSduHPu+yJyUETOc849BuDvAfh6+2dE5HUAfuCccyJyMaYWFc/E6lNidjDHMKZO75fqUk32nQix+4m9g7p2zbLcCIBr1ywLcv5EfLRzQZPfpaqI7Z3+iwDubHmmPwHgn4jIhwDAOfdJAFcD+Bci8gqAIwDe71zSkdUJ30t1uECdnrXH9l5fXOBYtziFpKgJEYURO5Ijc15L3un1xqcurzqSpZeJKsSdc48AGOlq/mTb8U8A+ETMPiTiMSiSa5fM1Jyxw6c2rVuRmzt907pc/8hEASF2P7F3UFtGVyahXWNSDYHqSGlXE3OGORzFTi07unoYW69e1WFD23r1qqSOSyRKhkU59Eqa6TqS0q4m5sxwweo6c2gqI2FOsqHFJ6VUTTA0NQSA/k6eFYskxBNzRuPQ1HQhWwcBVmUfykqpWof7nJg71hoCibmThHhEen1i6vXVdR1ygofog2UclhFhUIf7nLCRYryrIwnxSPTLxNTLq+s6hMhZ+2Adh2V4FdfhPidshFrQ9/rGJwZJiEciTUzlEPOlDyXAWB+toTkxK82V4VWcwo96A+uCfnzPREe0ycThI9hwz97pcyfySUI8EiEmptir0qavejW7TMs1hhBgbGJix1kfYleaK0NNmsKPEgCwecf+jnBRADg26bB5x/5GzUtlk0LMImFNZxk7ZWns85cBC2uxXmOIsBjfxKQ5zvrA7kHdC7QAKfwoMUVe4iZfe2KKtBOPhHUHE1sdH+r8Ve7m2S7Teo0h7HxsYmLHWR/YPWhKgRagdx0kE71DHbWXfSvEYz8M68QU204YSt1fpfMeU8OGuMY6OO75+sDuQQgBWcbEVYf7nKiWRfOHclM5L1KWFo5N1fNdEX0pxLUPwzp5WSamhQUDWlsrmxHCDllW+FHRM2C7zDrYWmNPTLFj9es6cSV6j7H1K7Bh214cO96WRnlAMLa+HmmU6+qs3Jc2cWZHBFoOSdv2dthTN2zbW5rNuKjKYqjqiyHskLG1Bcymzey1dbC1jq1fgaGBzofWPjEtGMp/BYvau4lts9a8KxrG90zg0tu+jHNuvheX3vblRvleJMphdPUwtr6vK43y+8KmUbaMw7pGUfTlTlzzMMa27+9YEQLAseMOY9vL8ZQ8XGArLWqfLSHUrLF3upqVr2+XWQdbK+vDyUODufXPT+5afLDfiHVNvWB2STSHmGPZOg7roNnLoy+FuOZhsDKbGqoOb4pN7PCjpti02XP29aHuHrlNMbskEgzrOKxrVrq+VKe/4/yls2qfCyHCm4YGu9SwgxJswIQIMYutyrWGR5WB5j76VHiDBfaRovayaYLZJZHQYB2HZYRbzoW+3Il/5RtP0/bFC4Zyd0OLF+gckoLsProrfeZX/pwToXZHMXe6dV35tsPuI1PhsXKuVdMEs0sioSHEOKxjFEVfCnHNimzTuhUdmbSAqZ3wpnU6T0nrqm/r/Y/l2uRDqSDrkFKUoREg1giCjeP7cNfOg5h0DoMiuHbNMmwZXan+vjVWvQ5hNRZzgIYNl5+X+y7VaTGW6H3K2BRUEUfel0JcWzZv14FDHRP8NX93WWk27dgqyFApRX27zBAOTT4BYj3/xvF9+PRDT03/Penc9N9aQc5CAdlzjB2FwCjN6YxoleqYRCPRW8R2dK3KgbMvbeIaO9/4ngl8bvfEtFpz0jl8bvdEaSk7Y9uDQ9g6WfiRNpRvriEf1vCnu3YenFV7HkwIs+cYIgqhynuo/Y0irRLQGymAE81gdPUwHrj5Mnz7tivxwM2XBRWuZbxLefSlENc4KFgfiNUJInaMcwgnDbbLZMetk7dVWxHCHs2EMHuOVefYL8PpLE/j095e1eSXSMwW34K5KgfOvlSnA9zOZy0BqfkN1j8gboyz1dbJVPLseBllMmOraa1pT6vOsV+G09mgSO7CKPPAT97r9SCZNPwwdXlVDpx9K8QZ1hKQIWBCtuqXjgkgdjx2mcwynpE17WnVOfbLcPZhGo/kvV49scv69gJswVxVNE0S4gWwB1J1Aos6ZMFiAogdt+6k2fnZM7KGEWr6oD3HXJ+ZVQCWofEZLujjcKuPTQgl7HWsoZL9ADMLVZUhMgnxAtgDqVoFWPUiIoMJIN9xzU66vSBClr8+Oy87P3tGL3Xdv4yi9iKqjB1tQqlR1sc6pMftd2KX9Q1FldoAZhYCqpkLkhD34HsgVasAq15EhIBN3tb89ewZHcnJWe5rLyJmrDz7fl0EoLWPdUyi0U+UUdbXStXagLomZkpCfI5UrQKsehERCt/kbc1fX1ZyB2usvE8Aar5vFYAhFhmx+5iISxPK+latDWBmoaroyxAzLb5wghAhWha0se79XP6xjGdkjZVnIWKxw6/G90xgwz1dJXfvmV3J3TqEiPX7WLfC3pU6lPWtWhtQh3uQR9SduIgsAvApAG/GVI6mf+qce7DtuAD4HQBXAHgRwAeccw/H7JOWuu8umIqyatVTXfA9I0F+OvrZJEuzxsqz3UXsiWvzjv0d6VAB4Nikw+Yd+pK7VU+uaayHIWYURQiq1gbU4R7kEVud/jsA/sg5d7WIzAOwoOv4zwB4U+vfGgD/pfXfyqladaPB99I1of+MEN7jPq5bu7wj7Wp7uxZrrDwTgLEnrhClUKueXHthrDeBqk0iVZswgervQR7R1OkishDA2wD8LgA454465w53fezdAH7fTfEQgEUickasPs2GMnYXG8f34dxb7sPZN9+Lc2+5DxvH9wU7d9W7oxBsWrcitxyrtggN4FezbhldievXLp/2Lh0UwfVrl8+qAApTsVkzttVVhddO1X3shbGe4FRtwqwrMXfi5wB4GsB/E5FVAHYD+GXn3AttnxkG0J6o+juttu9F7JeK2LuLEMU3fA5JVe+OQmBVX2nUrFtGV85KaM+2j9aMbbFVeCGqqFWtZuyFsZ7QUcedcNWIi+QeLyIjAB4CcKlzbqeI/A6AHznn/nXbZ74I4Dbn3F+0/v4TAP/SOber61w3ArgRAJYvX37RgQMHovS5nW4BAExNrqFWfufecl9hzOHjt15h7p+m/3XIwBSzD5fe9uVCb9IHbr6s8v6V+Ru+326PxQeAoQHB1vetasxkGftdTSTqgIjsds6NdLfH3Il/B8B3nHM7W3/fA+Dmrs9MAFjW9veZrbYOnHO3A7gdAEZGRkoJyguxu/BNztaYQ2YHLMvxzSKAMs/ozLEq84yebR+KsKpZy7pHdXaQDEXMhUrVmoBE/1CHjU830YS4c+77InJQRM5zzj0G4O8B+HrXx7YD+AUR+R+Ycmh7zjlXuSo9wzK5smxjmuw/PjQCKrbjm1XIaTyjLS8Nq/XNqMM9KoPYi4g61BlIJKzU9V2OHSf+iwDuFJFHAVwA4N+KyIdE5EOt4/cBeALAtwDcAeDnIvenNHzZxgDg2jXL8r5W2N6NtYRlCGcga3ww84y2ltk8+kp++tSi9m7Kuke9EOPsu4Y6xJEnElbqOo6jhpg55x4B0K3D/2TbcQfg52P2oSpYtrHMmequnQcx6RwGRXDtmmVqJytruEUIZ6DYXsHWnfCLBelTi9q70d4jn7ZAW1O9bqv72cCuIXmPJ3qBuo7jlLGtQraMrsTjt16BJ2+7Eo/fesWsvKSt4RYhwoKs2oAiD+isveqXRpsVz6ctYPeorqv72cCuwTpOEok6UNdxnIR4JIoSkoRKVAJMCfIHbr4M377tSjxw82Wz2rlpFwE+Nal1ITC2fgWGBrriwAcEY+un4sCtL43mGVhT6zIBxu5RGQuV2Op6dg0bLj8vN96/TrHuiQSj6nwIRaQCKJHYtG5Fh+c1MPtEJbFhzkBMTWr1CrbGUDPYMwiRWpcJMHaNsWOcy1DXq66h24ez2sJPicSsqWsURLQ48ViMjIy4Xbt28Q/WgDqGI8yGEHHWVjaO75uz3wDgfwaa62PP0HqPQsQ4W6/RCruGOoyjRKLpVBEn3vPUOf43BFXbpMf3TOBzuyemQ/EmncPndk9g5KwlpcSRa3axVm1B7Kx0ZTxDdg1Vj6NEopdJQnyO9IJXMaPqdJZW73T2jBYVFFhZ1LKZa34/hIrNsthjfSzrGfquIUQfmq7VSjSDJo6zJMTnSD9UTjr71fmT79mvLkeIa3ZwvpeOPaMiS1LWrt1BVqlx0TiVVV35ydqHflgw9wN1F5BNHWdJiM+RflARPvTEs7NqDw3bwVlVySyWP0SceAgshW7q4Ixj7UM/LJjrQMxx3AQB2dRxloT4HNFM8HVfeTKs+d0B2z1gOzirKpmlvn3H+Utz642/4/ylHdcXc3Ji59fscjVRCLHHqUVb0Q8L5qqJPY6bICCbOs5SnPgcYTGD1pShdaAoj7s2v7v1HoyuHsZVFw131Pu+6qITwkCjSvY9I7ZI+co3ns493t4eO60qO7816U8Txmldk2z0ErGTDjVBQDZ1nCUhPkfY5NkLmbis+d2tAq7IO12bDY09o+GC72ftmolH6+E+VyGZp0nobrck/WnCOK1rko1eIraQXVSQeKmovQqaOs6SOt2AT0XYhJUnw5rfXSPgfJXemArOqkpm39eYTNhnNGpEnzrbWu2OoVkkaEilRptN7CgG5kRaB5o6zpIQj0TV4Vmh2DK6clbJVdph98BX6W109TAVMHXIGMc+Y41F1/glWARoiEVCKjXafGJHMTxX4ERa1F4VTRxnSYhHog6hPVU71rF7wLzDNQLG6rTl+75mkWBNq8p26sMF389U/lYBGsJ5sQlOSwk/sXehvbKpqSNJiEeiatVMHUI6rPfAKmBC3APNytyisrfGeVvV9WyRoCGUSj5RLTF3oXXY1PQqSYhHpErVTF12R757sLggY1pWZcwqYMq6Bz4had2pW1OahghRY8S22yeaT9Wbml4mCfGIVJkEpAmOdZvWrcCv3v1IR0ErabUDujhtH9aMbxrG90x0VEqbOHwEG+454ZyX/XeuO3X2fau6XjO5snsUQiWf6H00m5qqTYBNJAnxSFSdBKQJNqhdBw7lVqjcdeAQRlcPq+K0fVgzvmnYvGN/R6lTADg26bB5x37VOaw7FLbQ0SxkfJOr5h6FUMknEnUwATaRFCceidjxt+z8ZcU8WhKZ3LXzoLfdqk1g9yDEM8ozB/ja87DEeX9x7/e87dYEFpp71NT42kS9aELOgjqShHgkYquz2fmtmbw0WBOZMDWsVQCNrh7GhcsXdrRduHxho0wODObhbxWw2p28daxZFoOJ3qAX3scqSOp0A5bCFFY054/tWBc7kcmGy8/rsDcDwNCgqAXQxvF9eODxQx1tDzx+CBvH92HL6Mogz2jR/KFcQbpofj0yUVnV9dp7ZBlrSY2aAFLJ2rmSduJzhO1CY6sY66DCtKYc1aR1nexKBtP9tw+mrg9xD1e8/rRZtVeBRV1fxjhLatQEYB9rTagDEIMkxOdI7MIUDFYcJBQ+NSdTd7N7tGV0Ja5fu7zjGq5fu3w6Q9zmHfvRLbOPu6l2DUxdH+IZVV2utSiKK1R0l/YeWdThSY2aAOzvY78uBpM6fY5oC1PEUuUUFQcZOWtJsN+0xhhr7pEvravVaSxExjdG7LSojDJyUmuy4lnU4U2IpEiUg+V97NfFYNqJe/DtLqxlOq2UseqsWtugYeP4Ppx7y304++Z7ce4t92Hj+L7pY9YqbCGIreJjldjKwDoW62AaSnDq7nzY1FKiVtJOvIAQhSliEmLVyXaI1hhjK8xpbOP4vo4Y6Unnpv/eMroSI2ctwWd2PtWhkh8QYOSsJeo+WHfRsbPG1SGdpTXtasrmVX+a4HxYh3ehCpIQL8BamCI2GhWkTwBpXsqq1Zxj61d0lCoFgKEBwdj6qYxuPse1LaMrsfX+x3Jt6loBqrlHTGUfW8VXhgBkCxmRfPX9bJRSVaYoTnDqksbZR78uBvtWiFt3oVWv+tjvMwGkeSnLuMaN4/sK65WPrh7Gtl1PdYSJXXzO4un+MW2IdYeouUeaWHfLYkuDVQBaF3tNqBWdsNEUe3M/Lgaj2sRF5EkR2Scij4jIrpzjbxeR51rHHxGR34jZnwyNnZLZV8ryDi+C2aOZnbKMJB7MXpupw9ud8z790FPTdm1fnDcwlWc9j6xd47fgs/Np7lFRPHjWzuy9We719rG44Z69pdkbx/dMYMO2rt/fduL3+9XjN9FJv9qbm0AZjm3vcM5d4JwbKTj+563jFzjnPlpCf4KkkizyDi/T2cMX/8sE0KIFBcKnoH0ubLj8PAwNdgrS9mQtLI6bHV8wbzD3eNbOdslsMaeZuI5NHs/9TNbOFkK+3OtlMLZ9f4e5AgCOHXcY2z71+yEWMonmk5wP60tfqtO1u1Cg2L5SdxsRU+NqVKBBnFnyKpy0YNIq/80AACAASURBVEKWHX/h6GTu8ayd+S2wZ6gxJ7A+AH4VnyaMLmaIGkvbqjEHjK1fgZvufgTty5mBVnuiNwhR7S4Rh9hC3AH4YxFxAP6rc+72nM9cIiJ7AXwXwK8552ZsQUTkRgA3AsDy5cvNnQqRSrLuNiImgNjkDdgXKlvvfyx3l6f9PnOYGhDMcFzL2gF7ha86OMpU7RWsLQc7OCg43qZRGBwsJ9QyUR7WaneJOMQW4m91zk2IyOkAviQi33DO/Vnb8YcBnOWce15ErgAwDuBN3SdpCf/bAWBkZMTsLhPCYatqz20GE0CaRCjWhYr1+/NPGsCLx2aqq+efNGUFKsrAmrWzUqZ1yD8vmKmsyNoBe356xuIFQ7nagMUts4qmHOzW+x/LNQnMRivFriHt8upN3TWTvUxUm7hzbqL13x8C+AKAi7uO/8g593zr/+8DMCQir4nZJyBMkpLunQhrrwKfzVwT576wwKZZ1N6N1RnmSI4A97V3w7zTQzzDxQU+BEXt3RStSLN2dg3WZDKb1q3I9VvYtG5KFa5ZiFkXa+wa+jUndpOou2ayl4kmxEXkVBE5Lft/AH8fwF93feZ1IlNbPxG5uNWfZ2L1qR1LUQhAt0OJjSWDkibTlzUvN3OGYQKQLQKs3umsFrcGJgQZrI/sGVi9x0dXD2Pr1as6FrRbr17VkSsgj/b22DXLk4d8/Une69URcyf+WgB/0bJ3/xWAe51zfyQiHxKRD7U+czWAv2595j8CeL9z9YkutYYfxUxTaN2daHahhwucrorau2EaDyYAmXc728UybYPGL4A9QyYE2TlYH5kDYuwdkGacsOfEYNdgjfdPhME3jjdcfh6GBrrGwIB+DCTmTjSbuHPuCQCrcto/2fb/nwDwiVh9sMAcNRYWpATNVM2xHT2sNiiNJiG23V/lOObxbo+dNU/7DC0OP9ZrsD4j1r/Pfi0/zO+zXzvYUbhmsssm3v23D3YNGv+NRFxU70L340iPpxRSAZQCmAovtpqTUYbTWRn1fX1mDZ93e4j+MUI8Q3YOttO1JpOx9u9ogTBubx/bvh/dXgrHW+0a2DVUXacgoTN5FDk3JuLSl3HiGpiQY6rm2GpOazpPpkkA7CFWVm0BU6OG8MD3oX2GvvvMzsE0IiwGe3T1MHYdONSRunY2mQNDqKo1ZgmWXhcofo4abUXyXo8LG8da8yJ7Ruk5zp4kxAtgQtJ63MrZr84//9mvnjo/U391C9eM7va61/f19W/tGxbPSNuatWvQLpR893lRQQhXlhlPc4+kKyBe2myP1rryZaiqWbU5wP8crXUCEnas853mGaXnODeSOr0ApuKzHtfgcyR56Ilnc7+TtTP118uv5IdpFbXPhao9Vp98Jl9AFrV3o3HqYveZOaaxe7R5x35MdpkUJo+fSMtqVfkzVfWbTj8193hRex537pyZLKa73TfWWZ2C5L0eH+t8p3lGTXiOdaypnoR4AcyzWnPcUiCFFaZgk28d4jYzrYC2vRtNARMf1nugcf5jv/Fcgao5a2ee3Swtq/UaWajhi0fzF3Xt7cxuzxYymjhxX52COoz1Xsc6H2qeUd2jEOqaryCp0z0wVTLzSraoOX2FKUZXD9NMX3XIKPeXOars7nafDezaNctyU35eu2aZ6vsau78PzcTDfkP1HDwe+Azrc2aqas09YHXfGcx3gh2vw1jvByzzoeYZhTDtxLSp1zUrXdqJe7CoTqyqIeYsxGKkmXqLJUoJAevj+J4JfLhL2/DhNm3DltGVuPTcJR3fvfTcJdN2VKatsCar0ZgDjr6S71uQtTOVPPPAnz+U/4pm7VazDdtBae7B6OphXHPxsg6t0zUXL1NPbNY4cWuceiI+mnFqjULQ7JQtc3pdNT5JiBdgVZ1U/cDZ5MwEbBl85Av7cu29H/nClDPL+J4JPPzUcx3HH37quelnwMpoaiqE+dBMPHm53dvbP7/7O7nHs3Y2Tk4Zyi+3mrWHSCHsC/PTmESYupstpqyZ+QBbnHoiPppxai1pyzZO1jm9ah+fIqg6XURuyml+DsBu59wj4btUD6yqE6uKjxWm0OBTb9UhgQYr48meAdNWWK/RGr4FcCHPxokma17MIi3MgRLgz+m6NctzzSLXrZmqSMgqpbEFpy9OPXk1lwdTZbNxatWcsQWxdU4PUTgrBpqd+AiADwEYbv375wB+GsAdIvLrEftWKdadtFXNeeVbzvC2LyhQs7a3+1RH7Xbldorai4jprWl9BiHUc74dZgjYONEUoYn5DDT3kD0nZhax1iHQxKkn4hLC6UujOfONdbZTts4nVmflWGiE+JkALnTOfdg592EAFwE4HcDbAHwgYt8qxao6sao52cT23ovOzD2etbOXauSsJTMe/kCrvR3fSzO+ZwIb7umySd/TZpMuuDbtXp/Zg62cOi9fVZ21a/wamAqQ3QM2TtjuJLbHrCZCgL0rzCxSd6/kBCdEeBgba2ysswWxdU4vY1E/FzSz4ekAXm77+xiA1zrnjnS19xTW8CjAVimNTWxMyGvSJOapINtfOvbSbN6xPzfVYhbDbLW7HymIWS9qny1Mna9Zub9rVb7GJGvXLER844Sp02PH1mo0NtYYYTZ5s3toLQebsBPCB4hpfdg4Ygvi2CmKq0ITYnYngJ0i8j9bf68D8JlWedGvR+tZZHxpIAGdLTAmzJ5rTYOoeemYDcnqOMZg8cWx0YSo3ftoftnSex/9HraMrqQ2ccBvS2Q289gOlFtGV2LnE8/gmz98YbrtTaef2vGusLSpbEHKJu+rLjoz12Z+VUvrtGndCnx4294OJ8nBAX052IQdaxpogKfX1Yx1n919dPUwtu16qiOL44XLFwaLoqgKuhN3zv0bTNnBD7f+fcg591Hn3AvOuetidzAGWRrIdrXIpx96ChvH901/puqiC+z3mWqIHdfYWmMP2iKteNZeRhicD42jDVvI1F1FyNg4vq9DgAPAN3/4Qse7Ati0TuweaWzmeaahRHmwcaox+8Qe6xvH981Iw/zA44dmjOUi6uqdrh3rDwPYBuALAH4oIsvjdSk+d+3ML6/Y3q6xBVodinzfZ79vTYOoEVCxB+28k/Jt0ln7vJPyh2dRe2hCaBrKUBFa6zj7xqHmXWHnYFizD7JY+0R82DjVqKJjq8O1Y7kITRrmKtCEmP0igE0AfgBgEphOFvaWuF2Lh2aX/YalC2bsQLJ2wJ6sn32f9ZGpMFl4lCZ0iYVUsDA4kXzVd7ZQYDZpa3539vtlwFSEGqcuGkJG6jj71JjWcZido73S2sThI7jp7kemz8Fg96hqk0JCh2+cap8RU4cD/qqKvrFu1a5aoyhiodnS/DKA85xzK5xzb3HOrXTONVaAA7pd9hNPv5j7maxds7L07U6szj6AX4XJPCm1mbh8K+NN61bkZsrKbJHzC3bMRe2heePS/CIdWbs1uYSG2Kt3VseZqTFDjMNbPv9orpPkLZ9/FAAPh9RolfLU5WWZFBJ2NOY7DWzO8431qmsxxEIzmx7EVHKXnkHjcctWbWwHxQYUGxDaHdBcFwnaVJW+l2Z09TC2Xr2qQ8hvvXrV9GeOFDh1FbWHJk+T0t7OPMtDEHv1zsYhGwdsHBaVbW1vZ8+ZhUOyxeKuA4dyFwm7DkzZN0NUDEzExZrIJcMy52nmfUscelVovNOfAPBVEbkXbSFlzrmPR+tVZDLPWp93ujXbl7VoA1MxMjWoZtWYl/K0G0sWJlZLm7FgaCDXuzvbwQ0AMyb3rF0D8ywP0cfYMdBsnLLfHxoUHM1JUZot8KzlXAHdQsY3ju7M8UzP2reMrlSpWROcmMVDNOY7Tf8scx6b99n565qxTSPEn2r9m9f61xNsGV3pnag1FbR8sAG14fLzcis/ZQOCpaJkiwQmQDfv2I9umX3cTbVr7aUMa4iYFCyYsvai/bx2nx/Ccc2qbWDV6BhWO1+eAG9v1ywGBwQzxlLWDtgXMpp8AzFTz/YD1nedoU1D7VtIhKhm55v32fnruljUhJhtzvtXRueqZOSsJbn+Qt0ZzYpQqV48Dkls98ImVyZANQIsdiU2BnN8qwNWFZs1IU5su77m+v7hmvxglazdaotMxCd2IhON+Y6ZIDXV7CxmlbravBmFQlxEfrv13x0isr37X3ldrIax7ftzyzxnFbJYyk5NFiufQxIbUAsKfj9rD5FP2jqoBwrm6Kyd3UMrsdO2AuWEnfjsdKwUqjXWXjMxjpy1ZMazHpATC16rf0ciPqUIsLwJtQ2rk6U11bUmfXDMFMdzxTeb/UHrv78J4Ldy/vU0TAh+7D0rMdg1cw0OCD72nilVDRtQ7KVhA+rFgt1o1s4GvGYHZ91l5qlY29uPF0zuWbt1l3nre9+S69V863vDBVcwjclJBSuZovZu2MTBMsKxnX53YRJ0tWsmxq33P5ZrmtFOvnWdHPuJ2E5bmlj+EM6+lqRD1vTBVVEoxJ1zu1v/e4Fz7k/b/wG4oJzu1ZfR1cNYe06n5+7acxbPcPoqGlDspWE7PDY5swE/tn5FbpKQsfUnUlVqdmGWHRSzJ7f3pZ2i9m5GVw9j6WmdbhxLT5sX1IbFJp5XClYyRe3dxJ443jeSrwpvb9+266kOAbttV6evhjWtal0nx34itoe/ZqfP5sThguPt7Zb5iFUpq6u6XaNX/Nmctg8E7kftYKpeawo/9tKwHR5TVbMBP7p6GFvf1xUe9r5VMxYhvkE9vmcCG7Z1VTHb1lbFzBhWkoUQadu7eefHv4of/PhoR9sPfnwU7/z4V3UdUFDkaa/1wGfqbjZxsHHKdsFFgjJrv+6OB3PH+XV3PDj9NxuLTKNCTUeKsrsJG1ZVNEOz07dmobRqdELk1qgCn038WhHZAeCcLnv4VwDoZtEGMzSYf2uydk0KP9+q0LrqO7kgYUrWHsJWywb12Pb9uSqyzG+AOdexyd+aJpHFiYfIzc6ukQmw69bm74SzdpYkwxV0IGtnsbFsnHUL8Iz2dmY26d5lZ2TtbHI8eSh/oVLUnpgbFlU0Q7PTZwuJEKldN47vw7m33Iezb74X595yX8emK1RujbLxhZj9JYDvAXgNOm3gPwbwaMxO1QFmE2cqQhayUSQgR85aogqXeKlAFZ21s518Vgs8c67LaoFn/QN4yAW7R4sKqoBlAoxN/rGL0Fg9wwE+Tt616ozcUMEsocyW0ZX49tPPdwjFS89dMh0Gw7QZzCb+7aefzz2etWtDfyyw9Lks/jZEjHGiWrThWSxU0HecmXWywlcZWeErYOo9VKnLiXNeFfhs4gecc191zl3SZRN/2Dn3SpmdrAKmhmS7OE09b7bqs1T0YQOS1QIH7PG9obI0FcF28mVgrcA1vmcCf/VkZ3nbv3ry2Wlth1WAsZ10CI2N1QGR7bDqqsZMzI6YO32Av4tMs8fGmcY5r4ooC2pUEpG1IvI1EXleRI6KyKSI/EhzchF5UkT2icgjIrIr57iIyH8UkW+JyKMicuFcLiIGbBfIQryYAGRClqnbrUJeEyduje+NXW+c7eTLwJqely2m2HO0ClC2yGDlYgHuJKkxW/gm+JRWtTeILeDYu8iOs3FmTbUdC41nyCcAXAvgmwDmA/hnAP7zLH7jHc65C5xzIznHfgbAm1r/bgTwX2Zx3qgsLnBMytpZIhImADUxiT57NNu9hNhhsUHP7pF1J15GgZKqYQsdNrFoogx8cO/6/O+1tzMnyZ8qCGMrau+GLWgT9Yc5wYaAOfNq4sx940zjJFpFlIXKvdM59y0Ag865SefcfwPw04F+/90Aft9N8RCARSISrvqEAeawxB6oZtXnqwNtHRBsh6XZHbFrZFXM7GlXZ9ceGuY8WAYaZ5+Lu0IdL24LdWRx4GwxGUKV/fXv/XhW7d2wBW2i/jAn2AzLbp0teJmTJxtn1rr3sdDMRi+KyDwAj4jIvxeRX1V+D5gy+/+xiOwWkRtzjg9jqkpaxndabR2IyI0isktEdj39dJjqT2ywPFfgsPSc0rFNE9OYV5kpI3aVNI1Tl6am+TV/d1nHyvWav7tMvUNiC4mqHZqOFmxDi9rngjV8ioU63nnDJXjT6Z0lWd90+qm484ZLAHCPW22uAN9Y1JhVLNWpEvXA9ww1GSSt6mi24N0yuhLXr13eMV9dv3b5tBMpG2dsTq/Kd0MzU/yj1ud+AcALAJYBeK/y/G91zl2IKbX5z4vI2+bSSefc7c65EefcyNKl9nSWmsHCQnuYqpepszfv2J9bRSyzhVpVNyFsqewz43smcPfXDnasXO/+2sETceK53z7RzhYS1hhsK8zvIQTzTso/V9bOxqqvwlf2/e88+1LHse88+1LnxOjxuNVmbLMIWWvO7OwcKW1rdYSwB4dYrDHnuS2jK/H4rVfgyduuxOO3XtFRDEVTtMoSxx4LTQGUA865l5xzP2oVPvk3AN6vOblzbqL13x8C+AKAi7s+MoGpRUHGma22qGgGC1PlsuNMnc12J1bVDVtEaFTV7DPMKcsawmVVx1thqW1DwHYobKyye6yJkmAet2xiZGPRGsmR0rbWA0uMNfOfAarPiMY2PsxmHjthThG+ZC/LROR2EfmiiPwzETlVRH4LwGMATmcnbn3+tOz/Afx9AH/d9bHtAP5xy0t9LYDnnHP5RZ4DohksTMgyVa91QDLVDdulskWERlXNPhPb+1wTh55HKMe3EHHk1Pmv4HvajG0M9v0Qu1yakKagb1m7NWd2UrfHJ4uxbte6ffqhp6YFOXuGzH8GKEcd7RvLmoxwzDcjdhhdHr6d+O8D+C6A/wRgBYBdAF4P4C3OuV9WnPu1AP5CRPYC+CsA9zrn/khEPiQiH2p95j4ATwD4FoA7APzc3C5jdmgGi9W73DogmeMb26VaC6xoP2OBhS+xZ5AlTOmmqD0GzKZ95Vvy+5K1W00KLO0qE7AhdrnmKARyjda0rQk71hjr0dXD2Hp1VwTD1atKDSXMElx1eMjfc8JDPkRGuCrwCfElzrkx59z9zrlfBXAagOucc9/XnNg594RzblXr3wrn3Mda7Z90zn2y9f/OOffzzrlznXMrnXMzYsljoBksKu9yo0MQpXsSbPubOd5ZC6xoP+OD7UJZalv2DL64N19pk7VbS51qPPhZSlCmEWGwxdp7Lsxf6WftTMCG2OUyjQwTwuwa2TWkZDBh8O1SrTHWAN+lxlZHaxJc+fpY18Wi1yYuIotFZImILAHwDICFbX83Fs1gUXkNGxyCWK1rVm/cKqTvfTRfALa3MwHEhORPnnFa7vGsnaUMZZM/U7ezWH6GRp3OTA7WrHdssfb53d/JPZ61MwHLFlrW/gPAitfnj4OsnV0ju8dl1HTvdZjGJXYt74yY6mir+a+ui0Vf7vSFAHajc+PxcOu/DsAbYnWqDFiO3iMFYURZu88hqN3Roeg3Bgpeiqxd4ynpyzdtdazT9GFqxzxTIGY76YeeeHbGMV97N1XHiWuw5h5fvGAo91lkQpSdny2EGJp8CHm7MG3WPoCPg4UFOfYzlT+7B1ZtR4LXSbh2zbLcGgDtsddsTi2D8T0TND/7XGFzblX4cqef7Zx7g3PunJx/jRbgGtjkZt2hsF2ixsbkW/mG2EGxPliLxDBiO86FYMPl52Gwy3dhcEBf2Yg5/MS2E1rzIWhg52CLNbbTrquas0mwe7hldOWMxEHthXrqQOwohbpmDkwFeWuK1cbE7Lkaz+7YAoSZFKoucKJJ2LPrwKHceH9tzXPm8MMWa9ZQSLZQ04QGnVTwQLJ2a1If5vtQVzVnk9CkgX74qec6jj381HO1CuMLEebmo66ZA5MQrwgmRK02JmbP1eTcju1ockqBU1jWzgqcsEWAFY2tlXntagqIMHyLtevWFNQjb7V3P+MTvz/VzhZqmlj97kVMdzsbi1aNT7KJ22HjQOPgyEIRYyfkCRHm5qOu3uk+m3hPw2wnrBa29TfG1q/Ahm17O+zqeUI0lqomVH1fC9a0qqcMDeJIju23aHEwW3zOf5kakamKWQGR8T0T+JW7H5lunzh8ZPpvzX3P+nHXzqnMeYMiuHbNsun2o5P5/cvaR1cPY9eBQx3fb1cRatJlWuPprbbGZBO3w+YDJiAzVXb2DDNVdnZudjwEzLdCO+cVUVezTaEQZx7ozjmdvrCGaAbUscn82TdrP3XeYK5dO/PMZr9hHVAM5jDV3Y8qsDqFxc6trrHJC/KFVbbeZxPLhm2PzDiWtWufzchZS/CVbzyN7x4+gtctPAUjZ+mDR4pUhCNnLcHo6mGVY5vV+Y29C2ws13VybRq++YC9q8wxjh0PgcYR1jLnWeerWPiUersxleBlN4CnAfxvTJUjfbrV1lg0ahHmePax96zMDeP+2Ht0yfSBuOEUGtWRRr0VUwVmVYPWwRY6r6CiWdbOJpYiJ/L2dt8zsDrzsHGqcWxb+4bFuZ8pas9j14FD+P5zL8EB+P5zL3X4FLCxXIdx0AtYspmxhVQZC60Qi3rLPagKn3d65oX+vwCsc869xjn3agDvAvDHZXUwBqEG1EldE0v731XvDpjDlGbyZxmOrl+bb48tau+GxTgzqna8A4CXC/TlWbvVw549JyaErdnONM6F+7+bX1K0qL0bltKTjeVkE7fDxhnzj2GZActYaFkLJlnvQVVobOJrnXM3ZH845/5QRP59xD5FR6MWYWpSXzKW0dXDpahemF3fpzrSqLd8GY5GVw9TeyyDxThfeu6SGWU2s/bs+rJrybsHwwXPoMjrvJvYNncN7DkxIcx8L9g4Zc6FALebs+focw7MxpJvLCebuB3NfOB7BkzjVEaMtbVgUhkq/xhofGS/KyIbReTs1r+PYCqnemPR7OCsRRti7w6satQQRWCAKXvs6xaeAgFm2GMHC17sovZu7rzhErz2tHkdba89bd50LWzAb5KwPoM6xKmzeH9NPoGLz+lUa198zuJSd7F33nBJboxx9hytsehVa716Aes9ZKrsMnaxLOcBQ+O859NMZp8puySuZid+LYBNmCol6gD8WautsWicytguruosUppVo2+nzhyuNDDnvQLH6ML2bjaO78MPfny0o+0HPz6KjeP7VLt9jXe5jxDZyqy/wY6zHc7G8X0zdsEPPH5o+h5a7xEwtdvKk7ftt6l94RWaujocNQnrPdR8P4QjrW9Oi30NTDNZhgd+Hpp64odaVcve6py70Dn3K032TM9gTmXWAiexdweaVeNNn32kY9V402cfmV4Zajw5mT01dtwki8EGgOvueBBn33zv9L/r7nhw+hjbSTObt2aHqCmS4qM9bWVeO+sD2+GwexhC22BVY1rvIav4l+BY/Us037fuUpn2MfY1sHelqjhyKsRF5KdE5OsA/qb19yoR+f+i9qomTHatutr/Zin4YjtysPP/q88/OsOeedxNtQM6T872mPV2svbYCxUmwK6748HcXWa7IPdx1UVnets1GduY2YWdY8voSly/dnnHOLp+7fLpXbAms55vQRoibSrDmgkrRN12X8W/BEej7vYJYfb9EClRmZC0quyt36/KrKNRp/8HAJcD2A4Azrm9IvK2qL2qAWPb96Pbpel4qz1Tnfjia99x/tLcggGhbI3s/MxpbEFBnPuCtspkRalDdx04hNHVw1hUEL+r9QYdkHzHKW1a1TxnqfZ2lrCHmTw2XH5erlPYbHZ4mnGwZXRloeraWgSGqeNDJDWy7sStZgvmZJrQ4VN3a1TFVkdahkZIWlX2vu+zd6Uqs44q+aNzrlsnp6vl2GCYxy1bFca2iVvP/2JBHHx7O1PFWidvjeezBZZaVlMkJm8hNxusz8ka+8rU9WPrV+RuYrN7pCnJq8nq5kMTZ75xfB/OveU+nH3zvTj3lvumw8+A5NhWBlZVcRkFmULg0zaw+aSqOHKNED8oIj8FwInIkIj8Glqq9X6mjOQGvgFlPb9GhclUsVZv0NiMrh7G1vd1xRe/70R8MauRvHnH/tziJpt37Ff3wTp5WScupq7fdeDQjLHgcEIL82/f+5YZmpEBmWpv/zuP9nbfWH7ymfx7kbWzOPKU7CU+1vmGvWsaYgvJ8T0T2LCty/t8296OOHHffFJVHLlGnf4hAL8DYBjABKYSvfxczE7VAWudZ6tqhamv2PlZWtgQ6TSb4BXsU4+xRUodQsw08bUbx/d5Y/V96noWo52XW/3aNcs67inTqLCxzATEnTtnmiOy9i2jK2tb57mXsL7rIXwzYqeqHtu+v8N0BgDHjrtpE2rWB9/vVZHKWrMTP885d51z7rXOudOdc9cD+DuxO1Y1mjrPPo9Y66qRqa9YfO/H3rMydweVpYVlalbNZ2J7BTN7sMbpy4f1+2UwunoYFy5f2NF24fKF0xMF26Uy2OQ6vmcCn9nZef7P7HwqqEMS20kzs01dM2k1jZgpR0PsxAEeVWTxgLeahapCI8T/k7Ktp2CpHgF4PWJjezpqbK3dL0j730zNqv1MTK9gNnlryqn6sDqNAdwzWxM+5Zt4fHHeAPCZgl1qUXs3bHJlUQ4a2FgOoSaNWYegH4idcrSMKIkQHvBNxFfF7BIAPwVgqYjc1HboVQDKyztZUzQesTEr5rCJcev9j+Wqhtr7p6l+5VPFWr2CWWpbRp6q95qLl6nveQh1+aZ1K3DTZx/pEHQDgmmNDYsCyLJAZfcxywKVXR9Td1udA69dsyzXez7TtrAoBw3WEpELhgZyf6/I6S4xe6xpVxnWFMgarB7wmsqPDJYKOwa+t2AegJ/AlKA/re3fjwBcHbVXNYA5OWgcPSyqHaYuZypIbf1fy6q1DOc6H0VhftprCKXiG+zSBrT/zaIAfFmggPg7GJW2hcC0EaysL0PjXJewEdvDvwzPbeucvGnditxx1l750UdVmgBfFbM/dc5txlQBlM1t/z7unPtm1F7VAJ+TA8CFqPWBamKYfS8F61+I7ELWqkFWrNfABKRG3e7TRgD8OTBtAOuDtYSvxwAAIABJREFUptIaY8voSjx+6xV48rYr8fitV3QIcM09uPItZ+R+JmtnZX01qtyP/4MLOlS5H/8HFySVeUBie/iX4bcQYk72LcgZtc3YBuBTIrIo+0NEFovI/RH7VAuYkwNLy2p9oGxVyV6KMtLCWuPErWiuwZeWle3ENdensff6xgljfkG98qz91oLdaFF7Hr4Y7OvW5JeVbW+3xsJr3pVk845LGTvl2M+QXQMbZ2xBzqhzxrbXOOcOZ384554VkdMj9qk55AXYttDEB1uT+ftsVMzOGCI8rGpvTmZr9aVlvfOGS+hOXJPNTHMffel7GcwmzbLqMTLv9um+tbzbgU5/CF8IG5u82H3UqkHLtjX2E5rwLesz0HyffcZ3nF1D7NweVYXcaoT4cRFZ7px7CgBE5CzMMq1xE2EpQZnjGIuxZrGzsWNfQ6SFtTqmWWGqXpaWlT0jjSqZPSeWvpeNM9ZHTS1uHz7v9uz7PudGgE9eY+tX4Ka7H+m4DwM4kRWOLcY0KT+TkLdjTbvqQ/sMfZ+xpn6NndujqnwFGnX6RwD8hYj8gYh8GlOlSG+J2qsawLx+2aqN7fI0yfx9BVYAv5MGs/9oVaC+3whSuMKA1bucPSNNylP2nJi2go0z1keN45vvGWq825mDpkYVO9hlUmj/my2W2LvSr6FFZWI1D2q+r1F3W/rAxqnVpFDbjG3OuT8SkQsBrG01/Ypz7m+1PyAigwB2AZhwzr2r69gHAGzFVCY4APiEc+5T2nPHxFpPnIUraLzHfQVW2KqUhVto1f2W1fe8QcHRHNXxvEHdXp3VqbYWzrBm5QP4c2Kw8Cmm7WA7+TJ2UEyNyUIR2WJJE05pLa6R8GNVNWu+zz5jTWHMxmmIjHBVZGzzxYmf75z7RkuAA8B3W/9d3lKvP6z8jV/GVK71VxUcv9s59wvKc5UGU42w48wpigkINjGFENIM9hsstWueAG9vZ7ZSdg+t4Vfs/JoqZuwesYXCkVfybd5ZO9N2nHzSAI7kLAJObjm+WQWc9vu+yYtNzlY1ZyqAEh+rqpmZTDS/oVm0M7NKHdOmWvGp0z/c+u9v5fz7Tc3JReRMAFcCqMXuejYw1QhTo7LiIFbvcXY8RAw0+42hwfzhU9TezYrXn+ZtZ7W4NfW+fagKuJCMdOwesdhTq4f/SwWOb1m7dTEXQkCyUETmwc/elapDHfsBq6pZ61/i+w1NimCrWcWS26MqfHHiN7T++46cf5cpz//bAH4d/gqOV4nIoyJyj4jkJ+uuISzRCItZZIsE9n12nMZAF1xXezv7DWsVs4eeeNbbrrFhWcK32OSvCTk5pSAeO2vfdeBQbtrSzKucTW6sFCh7RtbFXIj4YdVCxRPpwd6Vl47N1Ab52hOzx2rv1fqX+H6DLdqtNvOm+lYUCnERea/vHzuxiLwLwA+dc7s9H9sB4Gzn3FsAfAnA7xWc60YR2SUiu55+Okw9bgZ7oGzAaASML27S6oTBBrzGKc2aUObSc2emcW1vZwsNjXOfJXyLCRfNLpTthFlNdhYHfvJQfobjrN26e2GLuRDxw2yx54v0yPC9K3nmBF97Ym5Y4rxDLAZj576oKlmLFZ/ec13r3wcB/C6A61r/PgXgnyrOfSmA9SLyJID/AeCylnf7NM65Z5xzL7f+/BSAi/JO5Jy73Tk34pwbWbpUHwJlgT1Q1YDx7C4YGnW+JdlLiD6w1LB33nDJDEF+6blLcOcNlwDgAoRpO3zhWwDfhTLhopl42GKICVEmgNgOhj0jltGN9V+zkGIwjUfsFMaJ6tHMR9YiLJr31TeOmjoOCx3bnHP/BABE5I8B/KRz7nutv88A8N/ZiZ1zt6AViiYibwfwa60yptOIyBnZeQGsx5QDXC2wOuNoCpDEdMJgnpZaz27fb3xx7/cK27O44nOW/gQeeuLZ6UQh5yz9ienPzTtpAC/nOHbNUzplsfCtNyxdgG/+8IUZx9+wdAEA/gxDxH2y+8wcfqxJf/Lub3s7i8Kwet8DdidP5iHPPPQT1aPx/LYWYWHvKxtH1nFYFRoPpGVtghYAfgAgPxejAhH5qIisb/35SyKyX0T2AvglAB+Y63lnC1tRsVUdq6XNHIrKcMLwqb809cQZTIiyWtdMwFjVY088/aK3nT3DEHGf7D6z4iAas4wlDpxpU7QqRl/qVquTJ+uDtZJbohyYOt76vrP3VWMCtYzDqtBkbPuTVq70u1p/XwPgf83mR5xzXwXw1db//0Zb+/RuvUw0K6oNl5/XUSISyHGa8ngusx2YNfTHuirUpNO0Ys0mZg1rUYWgEe9za8gJu8+sOAgAr1nGOg5Y0h/NxMpSt7LnyHZpbEEcooRkonoWFTzH2UQZWEIdrWlbq0KT7OUXROQ9AN7WarrdOfeFuN2Ki1qAeiZPlsCCCZCYThhaocPSaTLY5GnNTc7UY9a0r9Z66ABorDygq9vu7aPHLGMdB0xAahZSbLG24fLzctOudjt5FvWXLYirLsSTCEPs52g1TVWVG52hrVf4MIB7nXO/CuB+EckP8G0IGgHKPGbZOZh3uNVbs6xVoU9Vy0pQMseysfUrZgzA9pzaTD1mTfuqiaH2VUEDgOMFM0zWzurSsxAy1kfrOGDPSOOQxBZruw4cynVALCreUnSeonZrqGOiHsR+jlZn3zIqvc0FKsRF5AYA9wD4r62mYQDjMTsVG40AZZNje6ahdha27SJj5umNXf8XsOdf19jdfTm1Ab8dbVHBM8jarbW2fVXQMph3OatLzxYizIOfeX6ze6QJ82N+AWwhwMLsGLEXxIl6UPea5lXlRmdobOI/D+BiADsBwDn3zaaXItV4HTPVCUvSocnTu+vAoQ5b6WxCd0JUIWMwVS1b6DB7sEad7fPgZ8+AxXAzWBU0Dcz5jy0CmJBnKsix9StyU8dm2g7mnQ5wv4Br1yzLHYvZYs2aHteaAjmho+pKcGU8R6uPSx3TsmqE+MvOuaMyXZ5RTkLDS5Fqwh3YgNJmICp64NbQHW0VMgvWMDvAb3fXevAXOW2xZ8AEoLWAClC9UxVTQbKxrnLgJIyctQSf2flUhzf4gGDa9m8NAWMLXs37nPBTh/Cp9BznhkaI/6mI/CsA80XknQB+DlOZ1hqNJgbbN3FYnRxiOySFgMUwa1bOvtW91YPf+gzYDlLDpnUrcoVglhv95IJY+JMLMrV1wxznrM46AExJiYCp55SXWjZ7TqxIC2N8zwTu/trBjgXv3V872LHgreMOqUnUpRJceo6zR/MW/UsATwPYB+CfA7gPwMaYnaoDLFuY1aZtzQ4UosAJQ2My8NmImE3d6sHPYpwZW0ZX4vq1yzuykV2/dvm05qBIyLS3j64extarV3Xcg61Xr5q+B0cLYuGzdmazZkVmrONQk/LUFwMO8OdkNWts3rE/1+yyecd+1fcTnLqGTyU43p14qxb4fufc+QDuKKdL9YCtTK02bWt2IKudUYPGZODDWqaTaQK+8HB+YpwvPDyhDp3zqfuZANbAVPrMZm1VlzPY5M1iwAF7KVHAr7HJGyO+9sTssT6jRHV4d+LOuUkAj4nInDO0NRU2ubGdOsOaKctahlMD8xZlO212D5lTFtMEsEQpbJebXUORtkNT4pLdA6YxGV09jGsuXtahDbjm4mWzygfNMmH5YOfXeJarqs15MuP1awnJOsGeYVMrfPUDGnX6YgD7ReRPRGR79i92x6qGTW6aFHy+iYU5pjGbN5sYNbCJj6X8ZPfAWsrUugMbW78i9x5lu1w2MWmST7B7sPYNi3PPkbWHMNtYBJi1ChqgDL3xZMZj95AtxpKAsWNNWZqoDo1j27+O3osawpy2rJ7VbJeq8pwmKUN9qL1RPU5P7BrYPWQqPKv3OFM1M3W/JvkEuwdPPpN/PGvXmG1816B5jj41KDt/iEI5LJSQ3UNmcqiLU1bTsaQsDUVS2c+eQiEuIqcA+BCAN2LKqe13nXOvlNWxqrHaGq2e1WwHZE0Zqpn4WMpPa05sFuvO7oEm5amPEClHWb5nNvlpJkcmIH3PUSPkfecP4cFvDVXM8z9pNzkkp6z4lJFyNESYWz8uAnzq9N8DMIIpAf4zAH6rlB7VCIut0epZzWze1olL832NSp+pen33kJkUWErSFwts4lm71V6tuT5Nmc082p2+fMcZ7Dla1aDMgz/Dp9LXVARk9lifyYFlT0zYKSPlqHWs9qtZxSfEf9I5d71z7r8CuBrA/11SnxoBEwBs4mICjNm8rZO/5vsapyxLGkImgFg2M6vfQoiUoywjG3uOsdPvhsgnsGV0JR6/9Qo8eduVePzWK3IFuG/yZNdotccyB8iEHc27YHUujFkUqpfx2cSnZyfn3CuS3ogOmJqR2YNVA9Zj87Zm2tpw+Xm5dsbZFLawwlR0LDyLXYOmSA1LOcrQ2Izzin9kaMw2PhUhG2ea/llVkFa7fnYf5mqPtYZCJnSwDJQW3wzArrLvV7OKT4ivEpEftf5fMJWx7Uet/3fOuVdF713F+AYdywvOJi42YFU2b2Omre7JvftvVio0q9CVCdGsQhegs2FpSlQyfAKS2auZTX58z0THQmni8BFsuKfz+thCZ/OO/Zjs8iuYPD6VqERzj9jkyMYZ61+IyVez27dk4goRh56ISwjfDGvu9H4dB4VC3Dmn8w7qUTSDjtXj9k1c1p06czrLrqFo8h3bvj83VebY9hPChakpfRW6NBO2r0Sl5vtMQL50LN9mnrUzk4YvU1jWP5awhoXJsXGmcUD0jTOmbQgx+cbe7TOtU4j87wkbFt8MbaQEo18L4WhCzPqS2GEr1p26JhmNt3gIseUCXABpzuHDl0hEk3GN9Y/Z1Nk91MSpa2LJfbBxptnlMnW7T8CFmHxD7PYpTOtk1EolbFjnqwymsbGES7LvN5UkxAsow77iG7BM1atRx1sXISGqfPlgk38Im7WPEOo3FkvOTBJsnAny5VH2BFQC0iPgQky+1t0+g2mdNFqpRFysOSE0WMMl61CpLQa6MkJ9SOwC9YAtoxvz+GWTb1GpzPZ2JmSLSklqS0wy2DWyTF7sGtn5iy6jvZ2Nk3etOiP3eNbOvs+c+5hHLitwwu6B5j1gHvixwyH71aGpTjDv9RAhalbv8171Xk9CvACWctSKNe84e2nY5Ltp3Yrc68tKaAJcCObViO5ut4SdsGtkAnLTuhUzFhQDgulrZOdnAhTgk5N1McawCrhQk6/PSTJ2OGQZC+4Ef5d9OSGs4ahAObkxmkhSp/uIaGcLUSvb4jinsR8xey9TozLvdY263neNn9v9ncL2LaMrpxzncpz32h3nfOfX9g8ovo8aIer7PoNVemPHsz4U/Z6mfx/5wr7c+/yRL+zD6Ophs8MR+36/OjSVSQhVtCVCAeDRJoxe9V7vWyHOHBxi29msecfZNVhjcwFdIhNfH5n3ujUOnTmuaRznfPdQ2z/ffbQuxhgsgqCMRCismpx1oTK6ehjbdj2FBx4/NN124fKFwbyaE5w65Ke3OpH26mKvL4W4ZlWpUb1YPB2tecc1MdrWlS/bibI+skWAxnFt4/i+wlh8hsZr2hcHzpzSNH1kDopWWKITTSIU3zgO5QxkGYsbx/d1CHAAeODxQ9g4vq8jL0MS2vGoQwEUTUEiH7262OtLIa5ZVTIha53cNKtC38RkjdHWoC1DOdffYwJu4/i+juOTzk3/rRXkPlgcuGYXy/rIbOIMFoduTYQSIk6dedBnvzPXydMaipiwU4cCKCH60IuLvb50bNOsKlmBEquno8bRw+dIYo3R1sCKsFhhAs43eYeAxsErdrGf2TlzEdLero3zLnrOzAGROZ6x42wca96V69Yuz/1M1m4tTBE7/W+CE8K7nDnGsbFYRhGWJtKXO3HNio4JmBDq9rrHNMa2IbF7aJ285w8N5NrN5xdUR+tGM040Hvo+rGlVrcetZUIBnoK4DvbUhA2rKjqECbNX1eFW+lKIa4STdXKzCmE28TE1awhivzRW9Rizqb9U4PhW1N5NGY4w1rSq1uPsGWjvgS8Fca+G9vQbFlV0CBOmtQ+9SnR1uogMisgeEflizrGTReRuEfmWiOwUkbNj9wfQqbKtNZCt6nY28WnivBmaGG5f7Kf2HEVY1WPM5KGJ8/YRIraVUbWAs5YJ1WCN42YlcRP1RzPOk7p8bpSxE/9lAH8DIK/q2QcBPOuce6OIvB/AvwNwTQl9ois6a5y1tY6z1XudEUJdbz2H9RruffR7he0ah6cByVd7tyeIYeOEOXWx41XHroYIRWRYNRqs7G+i/mhivJO6fG5EFeIiciaAKwF8DMBNOR95N4Cx1v/fA+ATIiLOVe+xUsbk5sPqvc4IYadk57AmcxHJjwHNvq4pUOLj5JPybeYnn6RXULHdvqYm+oe37e2oxjY4ELYCl8U3IwTWyZnZ3BP1RxvjndTlsyf2Tvy3Afw6gNMKjg8DOAgAzrlXROQ5AK8G8LftHxKRGwHcCADLl+d7wsYg9oBiyVp2HTjUMXFddVG4/oRQ47JzWHdQ1uQODI3N3Fr1iC1kdh04lFtOVVuOlRFK42LdHVnfJVb2txerU/US1hjvRDHRbOIi8i4AP3TO7baeyzl3u3NuxDk3snRpmCQZsWF2PBZ2M75nAp/bPTEtACadw+d2T8zK5uwjRL5pdo4toytx/drl09c8KILr1y5X76BYgRNNgRIfrP+a0CjWx6IFS9YeO4zO6pthDQ8rgyb0sd9J+e3jEdOx7VIA60XkSQD/A8BlIvLprs9MAFgGACJyEoCFAJ6J2KfSYJO3pvpUzIo7IZxINOcYOWsJXrfwFAiA1y08BSNnLen4vM8xjiVbYapqJmBZ9S3NMxhbv2LGSzTQagf4QiZ2DLRV49KEyk9N6GMTsDipMpLTWjyiqdOdc7cAuAUAROTtAH7NOXd918e2A/hZAA8CuBrAl+tgDw/ByFlL8JmdT3U4Tg0IpoVY1eUVQziRaFLD+lS57DhLtsLSor5r1Rm56vyO6mfdC4W2v7XOiYODguNtmd8Gu6IGfKpgjd9AzPS+jKq95zU0oY91J3ZeiuS0Fo/S48RF5KMAdjnntgP4XQB/ICLfAnAIwPvL7k8stt7/WG5lJ22Vsqq9lrX4bJ3M8c1aya37u+3nAHjCnq33P5abdnU2jnnsHIy1b1g8Iy941g6Uk97Xh3YcVmmTbsq7UmfKSMiTnNbiUEraVefcV51z72r9/2+0BDiccy85597nnHujc+5i59wTZfRHi0W9pKlSZkmXaaUMOyLbyVrv0cuv5DumZe3W39eouq27wCefyf9c1l5Gel8fmnFYxljyvYtJVWsnaTOaS19mbNNg3QFZ47xjq5/KWHlbY6StHvrW39dUMbPWOC7DrGLZAWnGYeyxZE1Nm+AkbUZzSUK8AOvEFCLOmx23qDBDrbx9fWCOZ6yKWZGH/shZS1TXqYnR9j2jo6/kq+vb261hcCHMKrFV2Wwcxt7FhUhNm/DTq7W2+4G+rGKmQVvgpEjFFztlp1WFGSLkw9oHjc06ptcxe0YvFsSRt7db41+ZKpillq1DeFXs8KGk6o1PGSmGE3FIO/ECQhQ4ibk7KENTELsPVlUyczw7dd4gXjg6czd96rwTQtP6jKzqdKYKtix0ypqAY+/ikqq3HJI2o5kkIV4Am5g0k2dMNad1dxLCjmjtg1WVzBzPhgYHAMwU4lPtHE2lOI063ZL2tOpQREDXfyCeTTqpehOJYpIQL4BNTGzyjB13GWJ3Yl15Wx3D2OTMbOasFGneb/vau9m0bgU23LO3I4Ssu1IcU6fHdpCMvUvV9j/mLi45riUSxSSbuIfR1cVlOJkdsAkZ12L34dhkvk05a2d2uC/uza9SlrWz37eWsBxdPYytV6/q6N/Wq1eVOg6qDkWsSzY037uYSIQiZta6WKSduAefGpHtIpuQcU2DpUhLnj3a194N20mz3w+R0nTXgUP4/nMvwQH4/nMvzShMwrQFIcwevmuMPQ5CjeON4/u8VchSAZNEGfjGWWztaSySEC/AGptahjNObEcUTdpUSwiY9aVhv6/JuOZj4/i+DgE96dz035kAYo5n1nFgvcfZOapK2wrw+9jUyTPRLNg4q4OT6FxI6vQCNGpEn4qvDupuK9YiLazKGPv+4gIP76ydfd+6E9dUGLNmnWOwa9RUw7OEoIUYx+w+at61Jqo5E7Mn5nNm46ypoYxJiBcQQg3a9LhLa9pSlmyFnX/TuhUY6iom0u5Yxn6fLQIYmkUAs4mPrh7GVRcNd1Qx684655u42DWGqIYXO98Bu49aJ9FUarS3if2c2ThrarnUpE4vYGhQcHRy5uTTLVR8ND3ukqmjFxZ4ny9seZ8z73F2fqvJ4uWCAilF7Xn9YOp45hvB1OFMxceu0RqCVka+A3Yf2TU2Vc2ZmB2xnzMbZ00NZUw78QLyBLivvRdhOyhW75upYjU7XYvJQpNxzQerCZ/1z7dTte6U2TWy3UPVURQAv4/sGpuq5kzMDmuWTAYbZ03VnqadeKIQGoedkwilvZ3tpNn5GXWJH7Yka2EmBXaNbPdQdRQFcMIJsMg7vQ5Ooon4MAfLEFkyfWjmiyZqT5MQTxTCBIBmcvW9FCHUV77za6qQ+fA5ZLWHR/lg90ijsvddI5uY6iIgt4yuVN+zbpqq5kycQCOAQ2TJZDRRSDOSEE8UYt0Fas5vKTXKGFu/Ajfd/QjalecDrfYM3+5A691uyScQIpadTUyxF1JWxvdMdGTGmzh8BBvu2QsglRrtFbSV6LLPziVLZr+ShHgBVlVvr2DZBTJCxEAzBgcFx9v8GAbbHBNDxCdb8wmUMc5Ywh5f/9j3Q7B5x/6O1LYAcGzSYfOO/cGc6xLVohXAXs2asdhQr5KEeAF12KE0AcvkGtsbdev9j+UKh+z8IX7fWus69jizep+XkYglb2L2tSeah9Zs41swaooN9SNJiBdQBxVer6eiZE5dVqzhV5pdsvUaYo8z60Il1EKLpV1N9DaaxSpbMLJiQ/1KEuIe2C4zppDth1SUIvmraGVWVAqtskbUc5qJx5raFYirKrbaEUMstFja1flDAziSE/Y3fyhFwPYKmsUqWzCmKIV8khCfI7GFrGYH1ITdja+PIdRjFqcy9vuaiSeEY1pMNBOf7x6GWKQwL/9ThgZzhfgpbTG9va6V6gfYYlWTwjiZOGeShPgciW3PZQNaU5yjDHyTa4g+WqoOMSGsUc+xiSeEY1pMAaXJKLdh214cO97mGb7thGd4iEUKOwfLN9APWqkEX3DWwcTJqGKxmfRVcyR2uAPLtKUpzhEbluvY2kd2fmuRmhC5kq0FQmLni2ZZqMa2758W4BnHjjuMbd8PoHgxMptFCqvrXoesconq0bxLvve5aqrK8Z+E+BzRCICYKQLroMa1VhGzVimzLqRCVOjSpGrcOL4P595yH86++V6ce8t92Di+b/pYGRW8fBMfq9m+4fLzMDTQVYRmQGZ1j1La1YQGzbtUNb53sarFZlKnz5F3nL+0Q1Xc3g7ETxEYwlZpVf2wyVWQX8ks6+GmdSs6knwAs6tSxgqwMEKp53wqd2ZSCFGghGFW8XUPqVk6Hqa0qwktdc4HwN7FqhabSYjPka9842lve+wUgdeuWZa7iCja9XQTQjiwyXXeSQN4+ZWZDkvzThro+J2iyZt5jx+bzC9kUtSeR+xJgzl1xa7gxZ7z4oJ73K4N8cXaa2FpV+ueVS6RqKv3fFKnzxFrDLKVLaMrcf3a5R11qq9fu1ztMBZC9cPUoHkCvLvdp+pl3uMvHM0vKVrUXgXMpBBblcyes7Vmexk0Qc2a6H003vNW89xcSDvxOcJWXSFWZUwNaikqEWJyHl0dN/d5LyR3iF0zncGec1mqbKtKv85q1kR/UFfv+WhCXEROAfBnAE5u/c49zrlNXZ/5AICtADLvgE845z4Vq08hsZaAZLCiEFZCLTJ8uc+tVcRYH5nNXUPskBCN2SOmKrkOleZSiFiiF9C8C1UsNmOq018GcJlzbhWACwD8tIiszfnc3c65C1r/GiHAAa7is6oAfUUhQhBC9cNUtWPrV+R6NndXESvy9mR9LPLD1/rnZwul9pCQDffsDRoSYjV7WMeR9TmPrh7GVRcNd/R/ttqWFCKW6AXqataJthN3zjkAz7f+HGr9q0caq0CwVZdlVRa7KEQI1Y9VVWtN1mL10NdUzwqBxewB2MaR9TmHqDRXB7t6IhGCOpp1otrERWQQwG4AbwTwn51zO3M+dpWIvA3A/wbwq865Ge68InIjgBsBYPny5RF73F9YB6RVVWutAGaNle+V6lnMJGB5ziGiLMrwD0n0B2kczCSqd7pzbtI5dwGAMwFcLCJv7vrIDgBnO+feAuBLAH6v4Dy3O+dGnHMjS5cujdnl2lBU+6FONSGsqlrrDi1ENrGmEztLVIhdtGac+MwqVWXCStSLNA7yKUUkOOcOA/gKgJ/uan/GOfdy689PAbiojP40gVcKNpNF7VVgtREtKsjYVtTeTZZYR9s+43cKHOy0jncZ1oxqFmLbm0OkpmXjJER63UTvk8ZBPjG905cCOOacOywi8wG8E8C/6/rMGc6577X+XA/gb2L1p2mEqPBVBhZVreYafeozlnCHMbZ+BW66+xG0R7MPtNo1v58dr9LzOra9OVSiFYtZJdnUE0DyrSgipk38DAC/17KLDwD4rHPuiyLyUQC7nHPbAfySiKwH8AqAQwA+ELE/s6ZK+0uItKp1wHcPWRw4E5Ahal3LgABtBUCkzZteI6BjV7NjxM4SpXWM0yx2io6z57hg3mBuAp8F8wZntCV6l5R+N5+Y3umPAlid0/4bbf9/C4BbYvXBQtU7LGta1TrA7qE15ag1Tnzzjv2Y7KrgNXn8hHe6RkBrdgdVlhoNAdO2sOfMjneto6bJ1lMvFmTgK2pP9CYp/W4+NXKTqhdV21+s8cX3IkVEAAAT2ElEQVR1gN1Da8pRa5w4807XCGhmM6661KgGZtNnx9lzZsfzBHh7u/U5J3qDEDkLepGUdrWAOthfrPHFZeDbZdYl5edc0fw+2x2UoW63+CWM75nAhm17p2uKTxw+gg3bTmQG1GikYtcR6BXTUsJGiJwFvUjaiRcQwiu312G7TM099BVAYTt1Vo+cwbzTNd7vbHdQh8Wgj7Ht+6cFeMax4w5j26cyA2o0UkWlX7N2Ng7Yc2D1yBP9QdXa0bqShHgBVVWkaRJWdTmDqYpZBS4GSwur8X4f3zOBu792sGN3cPfXDs5qIVMlebnt29s1i5CiDXHWvuHy83KfUzYO2HPoBdNSwk7dF8RVkdTpBVRVkaZJWNXlgC3bmPUZse9rvN9Z6tamO+NoTAqHC3wLOtq7teFtf2ueYxNMS4m4VG1eqytJiCfmjDXtKrPHarCmjvV9X2OLZc5xZSwGLd7vixcM5V5DZpLYcPl5HdX0gM5dNMDHwdb7H8tV2WvT6yYSQPJOLyKp0wtIKf44VnU5s8dWjTU3e4bP7m/FOk5VJgnPLhqwRxkkEhrqWkWsatJOvICqk3jUhY3j+3DXzimb76AIrl2zbFqtad1lMnts1VjroZeBdZyyZ6jdRfvOkdSgiVDE1tg0scBKEuIFpN3DlABvTzgz6dz03+2CvO6DfK4cmzxO25k6OjYhxqnvGWrP7zvHO85fmpu4SJvjHmjm5JpoFlUn+JorSZ1eQBlexVUWztBw184ZVWFntFuuwRoiFpu8VJ/d7VYPecB2D2OP0xDnt+a4T6atRBk0NYQtCfECYoeYNWFiYjbhUuyxNWd09TC2Xr2qw0639epV6pW79R7GHqchzm/VFjR1ck00i6ZqX5M6vYAQXsU+FWATbO7MO1tzDb570CthfBaTQmybNmBTRYd4RlabeFMn10Sz0IzTOpp1khD3YE1n6bOvNGFiYkVY2DVobEy9bFPXENumHcLOZ31G1tCg5BiXKAM2TutqM+9bdXpsezRTAdY9kxfAM2Wxa2i6GjSUzd431mKPg7Kege8araFBKXtiogzYOK3rfNaXO/EyVlQs21dTEhf4MmWxawhR75sRU721ad2K3EQns3Va8401TTIVC2VofGJrXHrF7JKoPyEiNcqmL4V4GfZoZk/uhYmJXUPs6lOxF2MhnpFqrJFkKhbKUEXXvVJbIhGCupp1+lKIl7Gi0mT76oWJyXcNoTKeFdEE4cHGmiaZigWNxseqzajrDiWRCEldtad9aRMvwx49XHCuovZehJWYtNIE4cHGWuxrYHa+EKGOTfDvSCSs1DXta1/uxMtYUdV11VYmrEQlYNsF1lW91Q4bB2Vcg0+bEEKbEWKs1zF0J5Hopo7a074U4mXYo5tg8449cbISlVabdoh0nrFh46AMAeg7HirEzXeNmv7XMXQnkWgCfSnEgXJWVHVctWWUMXFqSlRadoHWdJ5l4RsHsQUgOx5KExA74U3aqScS+fStEO8FLDuwMpzCYoegNcEmriGmAGTH62D2CZE0KJHoV5IQbyjWHVgZAjB2CFpdbOJV7hLZc2THY6dt1RBbY5NIaGmixicJ8YZi3YGVJQBjhqDVYRdZ9S6RPcdFBaVSF7VlnWNpWzds2zsdBjdx+Ag2bNs7/b0QsOfYKxqXRL2p+l2eK30ZYlYXLKlfrTuwOqSytIbh1SHko+pUjOw5Fq2HtKH6Y9v358axj23fP+u+FsGeYwphS5RB1e/yXEk78YqwrvrYDowdr4P3fIidtNV5sIxEJzFVdOw5PnckP0KgqL2bwwWfK2qfK77nWAeNS6L3aarGJwnxirDa+djEppn4qvaer3ohEUJ9xhZLIX6DLQJ8z7EufgMWqh4nif6gqe9KNCEuIqcA+DMAJ7d+5x7n3Kauz5wM4PcBXATgGQDXOOeejNWnOmFd9bGJrS4TX2xHEcv5y0h0Yv0N6yLAmnZ1cYFNfbaV3KxUveBM9D5N1fjE3Im/DOAy59zzIjIE4C9E5A+dcw+1feaDAJ51zr1RRN4P4N8BuCZin2pDiFUfm9iqnvisHvTW8zPKSHRi/Q3rIoD1j93DEJXcEokmUJeNz2yJJsSdcw7A860/h1r/ut1p3g1grPX/9wD4hIhI67s9TVNXfbPB6kFvPT+jjEQn1t8ItdCYa9rVpk5sicRcqHrjMxei2sRFZBDAbgBvBPCfnXM7uz4yDOAgADjnXhGR5wC8GsDfxuxXHeiHydHqQW89P0OTttVqDrAu1mLb6TT3MMTE1sT420SiCUQV4s65SQAXiMgiAF8QkTc75/56tucRkRsB3AgAy5cvD9zL6mjiqm82WD3orednsLStIZzSrIu12BqbMpx5mhp/m0g0gVLixJ1zhwF8BcBPdx2aALAMAETkJAALMeXg1v39251zI865kaVL61PcIuGHxTBvuPw8DA10ZmcbGhC1gLLGumtqfYeIGx1dPYwHbr4M377tSjxw82WzElyxY+HLyBfQ1PjbRKIJxPROXwrgmHPusIjMB/BOTDmutbMdwM8CeBDA1QC+3A/28F7CpyZV7UK7M6zqMq7qz++B7ULrEjcaU2MzunoYuw4cwl07D2LSOQyK4KqLwv5eXe5jItGLxFSnnwHg91p28QEAn3XOfVFEPgpgl3NuO4DfBfAHIvItAIcAvD9ifxKB0ahJmVNVu9czABybdLMK8bIIuDrU+q6a8T0T+NzuielUt5PO4XO7JzBy1pJggrwf7mMiURXR1OnOuUedc6udc29xzr3ZOffRVvtvtAQ4nHMvOefe55x7o3PuYufcE7H604tY0raGwKomrXqHNrp6GFddNDxdcKV7F1qH1LSxCaXq9o3FfriPiURVpIxtDaUOzkJWIXzK0ACOHDue214GbBeaIgh0sLHYD/cxkaiKJMQbSh3KM1rVpC+/MlOA+9pDo7mH/R5BoCHdx0SiOlIVs4ZStSoasKtJjxe4MBa1h6YO97BqQqi6y7iPVZuOEom6koR4Q6lDeUZr+FNmi9a2h6YO97BqQoSwxb6Pmbp+4vAROJxQ1ydBnkgkdXpjqUvaVoua9No1y3Izpl27Zpm1Wyrqcg+rxqrqjn0f62A6SiTqShLiDaUXnIW2jK4EgI4Y5WvXLJtuj01d7mHTU5LGvo/J7JFIFCNNy60yMjLidu3aVXU3EokgdHt2A1O72JBZ2ZrOpbd9Odf5bnjRfDxw82UV9CiRKB8R2e2cG+lu79udeNN3P3Uh3UcbSVXMSWaPREaab2bSl0JcG2PNBkzVA2rj+L7KVNHA1PX/yt2PTP89cfjI9N/t9aqb/NKF6L/vHKHitKu+xzH7UBezR6Ja6pAbo470pRDX7H7YgAkxoCwT38bxfR1OYZPOTf+dCfLr7ngQDzx+aPozl567BHfecInq/Bo2bHuksD27Rx/etheTrZixicNH8OFtewGEE/Ls++d/5D681Jba9ZRBwTc+doX63Dfd/QiyqPWJw0dwU9ciBfAvptg4OWkAyMl3g5OUcSPjeyawYdteHGu7xxu67rHmHL57yBaLmnfBuiBOcebVU/ViMWmt8unLEDPN7oelo7Smq7SGzdy186C3vVuAA/+nvXuPsaMs4zj+/fVCtq3IJRIUS6mpCQjUVqhQKJJQwEhoKcYNUiARL8AfBilNatrUCCaYoBIjSlChRgiUS1spIdpwMWKUaist9CqNEYuVirRAQCEllOXxj5mzPT3s7pzd2dM5b8/vk2x69u2cmWfemdnnndv7wurnX+PyO/+8Xwxl3r3tK/nUly9eubk3gdf0vBcsXrm5d/ll6qDo+40JHODtnuCExauamv+ihzbRuIrv5eU1tcZUfa9v967ZwbceztaxaD8pqsMiNz6ytTeB7/tucOMjW/eLcdKiVUxc+BsmLVrVGxvsawTU1+GC5Rt767Bo/ZpZx6Lt5FfI2l87bCP3R9C3jkzizbzXWrTDlN2hyjYCevp5ILFW3pjAa2rlB+KgfOudngHLy9ZB0fcbE3hNf+WN+uoStrG8qDHV1wNZA5UP1ut79g5YXpSEixoBS9e+/xXAxvKyQ7p6qNL21w7byP0R9K0jk3gzvVQV7TBld6iyjYCyHaW0w0FZtg7a4dWjosZU1YoaGUWNgP5Wo7686FhodYPYWq8dtlGrB9Jph7+JQ9GRSbyZXqqKdpiyO1TZRkB/HaI021HKcByUh4zsu8HQX3mjsnXQ6pb5iH5Wo768bGNqxqQjB1Xe6IixowcsPxCNjKJjodUNYmu9dthGw9G74EDaoaEyFB2ZxCHbIVYvnMn2my9k9cKZ79sRinaYsjtU2UbATRdP5orpE/YbRvOK6RN6HzgqSg7DcVB+v3sKjalKeXkzytZB0fe7+mlM9Ffe6LLTJxSWFzWmipL80qvOeN+2GswDiDfMPonRDeszeqS4YfZJTS2/qBEwtp8R5erLi46FVjeIrfXaZRsV/d0uox0aKkPhzl4q1OqnPQd6On24OhkZaB0an6CvqW9stPPT6bV1KHqNb6BpmqmDsspsg4ef3cmCFRvZW1dHo0eKH3RP6X3DYP6yDfsNSjNC8MNLpg7rdqr6yWcrdrBvo3bveKm/zl6cxDvYgTgoq36XvR1UXQfNvCLmBGvW3vu6k7iZmVmi+kviHXtP3MzMLHVO4mZmZolyEjczM0uUk7iZmVminMTNzMwS5SRuZmaWKCdxMzOzRDmJm5mZJcpJ3MzMLFFO4mZmZolKrttVSbuBfw7jLD8EvDKM8+tUrsfyXIfluQ7Lcx2W14o6PC4ijmosTC6JDzdJ6/rqj9YGx/VYnuuwPNdhea7D8g5kHfpyupmZWaKcxM3MzBLlJA53VB3AQcL1WJ7rsDzXYXmuw/IOWB12/D1xMzOzVPlM3MzMLFEdm8QldUn6i6SNkrZK+k7VMaVK0khJz0r6ddWxpEjSC5I2S9ogaV3V8aRK0uGSVkjaJuk5SWdUHVNKJB2f74O1n/9Kmld1XKmRdH2eU7ZIul9SV0uX16mX0yUJGBcRb0oaDTwFXBcRayoOLTmS5gPTgA9GxKyq40mNpBeAaRHhd3NLkHQ38MeIWCLpEGBsRLxedVwpkjQS2AmcHhHD2S/HQU3SR8lyyYkRsUfSMmBVRNzVqmV27Jl4ZN7Mfx2d/3Rmi6YESeOBC4ElVcdinUvSYcDZwC8AIuIdJ/BSzgWedwIfklHAGEmjgLHAv1u5sI5N4tB7GXgDsAt4IiLWVh1Tgn4EfBN4r+pAEhbA45LWS7q66mAS9TFgN/DL/NbOEknjqg4qYZcC91cdRGoiYidwC7ADeAl4IyIeb+UyOzqJR0RPREwFxgOnSTq56phSImkWsCsi1lcdS+LOiohTgAuAr0s6u+qAEjQKOAX4aUR8CngLWFhtSGnKb0VcBCyvOpbUSDoCmEPWqDwGGCfpilYus6OTeE1+2e1J4HNVx5KYGcBF+T3dB4CZku6tNqT05K13ImIXsBI4rdqIkvQi8GLd1bQVZEndBu8C4JmIeLnqQBJ0HrA9InZHxF7gIeDMVi6wY5O4pKMkHZ5/HgOcD2yrNqq0RMSiiBgfERPJLr/9LiJa2uo82EgaJ+nQ2mfgs8CWaqNKT0T8B/iXpOPzonOBv1YYUsrm4kvpQ7UDmC5pbP7w9LnAc61c4KhWzrzNfQS4O38KcwSwLCL8ipQdaEcDK7PjnVHAfRHxaLUhJetaYGl+OfgfwJcrjic5eUPyfOCaqmNJUUSslbQCeAZ4F3iWFvfe1rGvmJmZmaWuYy+nm5mZpc5J3MzMLFFO4mZmZolyEjczM0uUk7iZmVminMTNEiLpYkkh6YQmpp0naWyJZV0p6bZ+ynfnI11tk3R9k/M6pu73JZJOHGpsZpZxEjdLy1yyUZLmNjHtPLIBGFrhwbzL4hnAYknHFkx/JVk3lABExNciwp2xmJXkJG6WCEkfAM4CvkrWQ16tfKSkW/LxizdJulbSN8iS5pOSnsyne7PuO92S7so/z5a0Nh845LeSjm42poh4Ffg7WedJSPq2pKfzWO5QpptsqNql+dn7GEm/lzStFpek70raKGlNbfmSJuW/b5Z0U338ZpZxEjdLxxzg0Yj4G/CqpFPz8quBicDUiPgksDQifkw2BOI5EXFOwXyfAqbnA4c8QDYqXVMkTQC6gE150W0R8emIOBkYA8yKiBXAOuDyiJgaEXsaZjMOWBMRU4A/AFfl5bcCt0bEZLK+0c2sgZO4WTrmkiVZ8n9rl9TPA34eEe8CRMRrg5zveOAxSZuBBcBJTXzni5I2kZ2F3x4Rb+fl5+Rn9ZuBmU3O6x2g1uXxerIGCcAZ7BtJ674m5mPWcZzEzRIg6UiypLgkHzVuAXBJPshCs+r7WO6q+/wTsjPoyWR9ZndR7MH8rP9M4GZJH5bUBdwOdOfzurPJee2Nff0/99DZYzqYDYqTuFkauoF7IuK4iJgYEccC24HPAE8A10gaBb0JH+B/wKF183hZ0ickjQA+X1d+GLAz//ylwQQVEeuAe4Dr2JewX8nv33fXTdoYSzPWAF/IP1860IRmncpJ3CwNc8nGGq/3q7x8CdkQiJskbQQuy///DuDR2oNtwEKyy9Z/Al6qm8+NwHJJ64FXhhDb98hGDOshO/veAjwGPF03zV3Az2oPtjU533nA/Pyy/ceBN4YQm9lBzaOYmVlbyt9x3xMRIelSYG5EzKk6LrN24ntPZtauTgVuy+/7vw58peJ4zNqOz8TNzMwS5XviZmZmiXISNzMzS5STuJmZWaKcxM3MzBLlJG5mZpYoJ3EzM7NE/R8ORi8MpaYi8QAAAABJRU5ErkJggg==\n"
          },
          "metadata": {
            "needs_background": "light"
          }
        }
      ]
    },
    {
      "cell_type": "code",
      "source": [
        "import numpy as np\n",
        "print('MAE:', metrics.mean_absolute_error(y2_test, predictions2))\n",
        "print('MSE:', metrics.mean_squared_error(y2_test, predictions2))\n",
        "print('RMSE:', np.sqrt(metrics.mean_squared_error(y2_test, predictions2)))"
      ],
      "metadata": {
        "colab": {
          "base_uri": "https://localhost:8080/"
        },
        "outputId": "e0ff7538-ab21-4fac-fd07-6d947cbec62f",
        "id": "7mL9rkIkg22U"
      },
      "execution_count": 24,
      "outputs": [
        {
          "output_type": "stream",
          "name": "stdout",
          "text": [
            "MAE: 1.0860261397283182\n",
            "MSE: 1.910327775464427\n",
            "RMSE: 1.3821460760225117\n"
          ]
        }
      ]
    }
  ]
}
